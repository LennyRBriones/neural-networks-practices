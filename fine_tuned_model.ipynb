{
  "nbformat": 4,
  "nbformat_minor": 0,
  "metadata": {
    "colab": {
      "provenance": [],
      "authorship_tag": "ABX9TyOBdc6bWHoLwW0sW2i6Ekgf",
      "include_colab_link": true
    },
    "kernelspec": {
      "name": "python3",
      "display_name": "Python 3"
    },
    "language_info": {
      "name": "python"
    }
  },
  "cells": [
    {
      "cell_type": "markdown",
      "metadata": {
        "id": "view-in-github",
        "colab_type": "text"
      },
      "source": [
        "<a href=\"https://colab.research.google.com/github/LennyRBriones/neural-networks-practices/blob/main/fine_tuned_model.ipynb\" target=\"_parent\"><img src=\"https://colab.research.google.com/assets/colab-badge.svg\" alt=\"Open In Colab\"/></a>"
      ]
    },
    {
      "cell_type": "markdown",
      "source": [
        "## JSON"
      ],
      "metadata": {
        "id": "m4feaIwQglC2"
      }
    },
    {
      "cell_type": "code",
      "execution_count": null,
      "metadata": {
        "id": "-8m3aQOJghGw"
      },
      "outputs": [],
      "source": [
        "{\n",
        "  \"model\": \"davinci:ft-personal-2023-08-05-21-35-43\",\n",
        "  \"prompt\": \"\",\n",
        "  \"temperature\": 0.1,\n",
        "  \"max_tokens\": 200,\n",
        "  \"top_p\": 0,\n",
        "  \"best_of\": 2,\n",
        "  \"frequency_penalty\": 1,\n",
        "  \"presence_penalty\": 0,\n",
        "  \"stop\": [\"END\"]\n",
        "}"
      ]
    },
    {
      "cell_type": "markdown",
      "source": [
        "## JavaScript"
      ],
      "metadata": {
        "id": "3sytH1rogqnL"
      }
    },
    {
      "cell_type": "code",
      "source": [
        "const { Configuration, OpenAIApi } = require(\"openai\");\n",
        "\n",
        "const configuration = new Configuration({\n",
        "  apiKey: process.env.OPENAI_API_KEY,\n",
        "});\n",
        "const openai = new OpenAIApi(configuration);\n",
        "\n",
        "const response = await openai.createCompletion({\n",
        "  model: \"davinci:ft-personal-2023-08-05-21-35-43\",\n",
        "  prompt: \"\",\n",
        "  temperature: 0.1,\n",
        "  max_tokens: 200,\n",
        "  top_p: 0,\n",
        "  best_of: 2,\n",
        "  frequency_penalty: 1,\n",
        "  presence_penalty: 0,\n",
        "  stop: [\"END\"],\n",
        "});"
      ],
      "metadata": {
        "id": "YQ15xleGgnel"
      },
      "execution_count": null,
      "outputs": []
    },
    {
      "cell_type": "markdown",
      "source": [
        "## Pyhon"
      ],
      "metadata": {
        "id": "flzhfN-wg03A"
      }
    },
    {
      "cell_type": "code",
      "source": [
        "import os\n",
        "import openai\n",
        "\n",
        "openai.api_key = os.getenv(\"OPENAI_API_KEY\")\n",
        "\n",
        "response = openai.Completion.create(\n",
        "  model=\"davinci:ft-personal-2023-08-05-21-35-43\",\n",
        "  prompt=\"\",\n",
        "  temperature=0.1,\n",
        "  max_tokens=200,\n",
        "  top_p=0,\n",
        "  best_of=2,\n",
        "  frequency_penalty=1,\n",
        "  presence_penalty=0,\n",
        "  stop=[\"END\"]\n",
        ")"
      ],
      "metadata": {
        "id": "9IMxo7YYg1_-"
      },
      "execution_count": null,
      "outputs": []
    }
  ]
}