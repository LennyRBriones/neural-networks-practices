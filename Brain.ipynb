{
  "nbformat": 4,
  "nbformat_minor": 0,
  "metadata": {
    "colab": {
      "provenance": [],
      "gpuType": "T4",
      "mount_file_id": "https://github.com/LennyRBriones/neural-networks-practices/blob/main/Brain.ipynb",
      "authorship_tag": "ABX9TyPN78ywycHyZTt4hve4KvuX",
      "include_colab_link": true
    },
    "kernelspec": {
      "name": "python3",
      "display_name": "Python 3"
    },
    "language_info": {
      "name": "python"
    },
    "accelerator": "GPU"
  },
  "cells": [
    {
      "cell_type": "markdown",
      "metadata": {
        "id": "view-in-github",
        "colab_type": "text"
      },
      "source": [
        "<a href=\"https://colab.research.google.com/github/LennyRBriones/neural-networks-practices/blob/main/Brain.ipynb\" target=\"_parent\"><img src=\"https://colab.research.google.com/assets/colab-badge.svg\" alt=\"Open In Colab\"/></a>"
      ]
    },
    {
      "cell_type": "markdown",
      "source": [
        "## Libraries"
      ],
      "metadata": {
        "id": "Kd06-CcRnErO"
      }
    },
    {
      "cell_type": "code",
      "execution_count": 1,
      "metadata": {
        "id": "ltJNbSWUlIoP"
      },
      "outputs": [],
      "source": [
        "import os\n",
        "import zipfile\n",
        "\n",
        "local_zip =\"/content/drive/MyDrive/brain_class.zip\"\n",
        "zip_ref = zipfile.ZipFile(local_zip,\"r\")\n",
        "zip_ref.extractall(\"content/drive/MyDrive/brain_class\")\n",
        "zip_ref.close()"
      ]
    },
    {
      "cell_type": "code",
      "source": [
        "import numpy as np\n",
        "%matplotlib inline\n",
        "import matplotlib.pyplot as plt\n",
        "import matplotlib.image as mpimg\n",
        "import string\n",
        "import tensorflow as tf\n",
        "from tensorflow.keras.preprocessing.image import ImageDataGenerator"
      ],
      "metadata": {
        "id": "IPAgEv9XmHAg"
      },
      "execution_count": 2,
      "outputs": []
    },
    {
      "cell_type": "code",
      "source": [
        "train_dir = \"content/drive/MyDrive/brain_class/Training\"\n",
        "test_dir = \"content/drive/MyDrive/brain_class/Testing\""
      ],
      "metadata": {
        "id": "1U8kcxQsmyWV"
      },
      "execution_count": 3,
      "outputs": []
    },
    {
      "cell_type": "markdown",
      "source": [
        "## Data Generators"
      ],
      "metadata": {
        "id": "mmzym1NEnDoD"
      }
    },
    {
      "cell_type": "code",
      "source": [
        "train_datagen = ImageDataGenerator(rescale = 1/255)\n",
        "test_datagen = ImageDataGenerator(rescale = 1/255, validation_split = 0.2) # splitting in 20% to validate performance"
      ],
      "metadata": {
        "id": "HWVjkcY7mp0i"
      },
      "execution_count": 4,
      "outputs": []
    },
    {
      "cell_type": "code",
      "source": [
        "from tensorflow.python import test\n",
        "train_generator = train_datagen.flow_from_directory(\n",
        "    train_dir,\n",
        "    target_size = (32, 32),\n",
        "    batch_size = 12,\n",
        "    class_mode = \"categorical\",\n",
        "    color_mode = \"grayscale\",\n",
        "    subset =\"training\"\n",
        ")\n",
        "\n",
        "validation_generator = test_datagen.flow_from_directory(\n",
        "    test_dir,\n",
        "    target_size = (32, 32),\n",
        "    batch_size = 12,\n",
        "    class_mode = \"categorical\",\n",
        "    color_mode = \"grayscale\",\n",
        "    subset = \"validation\"\n",
        ")\n",
        "\n",
        "test_generator = test_datagen.flow_from_directory(\n",
        "    test_dir,\n",
        "    target_size = (32, 32),\n",
        "    batch_size = 12,\n",
        "    class_mode = \"categorical\",\n",
        "    color_mode = \"grayscale\",\n",
        ")"
      ],
      "metadata": {
        "colab": {
          "base_uri": "https://localhost:8080/"
        },
        "id": "SHnJSOQ_nvwl",
        "outputId": "a647b454-c063-4d7b-d8a0-efe2bb76061b"
      },
      "execution_count": 5,
      "outputs": [
        {
          "output_type": "stream",
          "name": "stdout",
          "text": [
            "Found 5712 images belonging to 4 classes.\n",
            "Found 262 images belonging to 4 classes.\n",
            "Found 1311 images belonging to 4 classes.\n"
          ]
        }
      ]
    },
    {
      "cell_type": "code",
      "source": [
        "classes = [\"glioma\", \"meningioma\", \"notumor\", \"pituitary\"]"
      ],
      "metadata": {
        "id": "dGhovmCAtQqa"
      },
      "execution_count": 6,
      "outputs": []
    },
    {
      "cell_type": "code",
      "source": [
        "classes"
      ],
      "metadata": {
        "colab": {
          "base_uri": "https://localhost:8080/"
        },
        "id": "EhbkCqZutzWD",
        "outputId": "41c4b242-9c96-4668-9d77-2c3563e54830"
      },
      "execution_count": 7,
      "outputs": [
        {
          "output_type": "execute_result",
          "data": {
            "text/plain": [
              "['glioma', 'meningioma', 'notumor', 'pituitary']"
            ]
          },
          "metadata": {},
          "execution_count": 7
        }
      ]
    },
    {
      "cell_type": "code",
      "source": [
        "def plotimages(images_arr):\n",
        "  fig, axes = plt.subplots(1, 5, figsize = (15,15))\n",
        "  axes = axes.flatten()\n",
        "  for img, ax in zip(images_arr, axes):\n",
        "    ax.imshow(img[:,:,0])\n",
        "    ax.axis(\"off\")\n",
        "  plt.tight_layout()\n",
        "  plt.show()"
      ],
      "metadata": {
        "id": "H-fTNXXDt0Pf"
      },
      "execution_count": 8,
      "outputs": []
    },
    {
      "cell_type": "code",
      "source": [
        "sample_training_images, _ = next(train_generator)\n",
        "plotimages(sample_training_images[5:10])"
      ],
      "metadata": {
        "colab": {
          "base_uri": "https://localhost:8080/",
          "height": 318
        },
        "id": "KHklUF-guQbp",
        "outputId": "c5438d28-2c30-4920-816e-d0d91b1b5c08"
      },
      "execution_count": 9,
      "outputs": [
        {
          "output_type": "display_data",
          "data": {
            "text/plain": [
              "<Figure size 1500x1500 with 5 Axes>"
            ],
            "image/png": "[encoded data removed]"
          },
          "metadata": {}
        }
      ]
    },
    {
      "cell_type": "markdown",
      "source": [
        "## Keras Tuner"
      ],
      "metadata": {
        "id": "mrjnb3hwzxRe"
      }
    },
    {
      "cell_type": "code",
      "source": [
        "from tensorflow.keras import regularizers"
      ],
      "metadata": {
        "id": "Jx4TqY0T05LX"
      },
      "execution_count": 10,
      "outputs": []
    },
    {
      "cell_type": "code",
      "source": [
        "! pip install -q -U keras-tuner\n",
        "import keras_tuner as kt\n",
        "from tensorflow import keras"
      ],
      "metadata": {
        "colab": {
          "base_uri": "https://localhost:8080/"
        },
        "id": "NBnvREUMuc-b",
        "outputId": "ec1b6317-df0a-4edf-8c0b-f1b49069cc49"
      },
      "execution_count": 11,
      "outputs": [
        {
          "output_type": "stream",
          "name": "stdout",
          "text": [
            "\u001b[?25l     \u001b[90m━━━━━━━━━━━━━━━━━━━━━━━━━━━━━━━━━━━━━━━━\u001b[0m \u001b[32m0.0/176.1 kB\u001b[0m \u001b[31m?\u001b[0m eta \u001b[36m-:--:--\u001b[0m\r\u001b[2K     \u001b[90m━━━━━━━━━━━━━━━━━━━━━━━━━━━━━━━━━━━━━━━\u001b[0m \u001b[32m176.1/176.1 kB\u001b[0m \u001b[31m5.0 MB/s\u001b[0m eta \u001b[36m0:00:00\u001b[0m\n",
            "\u001b[?25h"
          ]
        }
      ]
    },
    {
      "cell_type": "code",
      "source": [
        "def model_constructor(hp):\n",
        "  model = tf.keras.models.Sequential()\n",
        "  model.add(tf.keras.layers.Conv2D(20, (3,3), activation =\"relu\", input_shape = (32,32, 1)))\n",
        "  model.add(tf.keras.layers.MaxPool2D((2,2)))\n",
        "  model.add(tf.keras.layers.Flatten())\n",
        "\n",
        "  #Dynamic generator of neurons\n",
        "  hp_units = hp.Int(\"units\", min_value = 10, max_value = 80, step = 10)\n",
        "  model.add(tf.keras.layers.Dense(units = hp_units, activation = \"relu\", kernel_regularizer = regularizers.l2(1e-5)))\n",
        "  model.add(tf.keras.layers.Dropout(0.2))\n",
        "  model.add(tf.keras.layers.Dense(10, activation = \"relu\", kernel_regularizer= regularizers.l2(1e-5)))\n",
        "  model.add(tf.keras.layers.Dropout(0.2))\n",
        "  model.add(tf.keras.layers.Dense(len(classes), activation = \"softmax\" ))\n",
        "\n",
        "  hp_learning_rate = hp.Choice(\"learning_rate\", values = [1e-2, 1e-3, 1e-4])\n",
        "\n",
        "  model.compile(optimizer = keras.optimizers.Adam(learning_rate= hp_learning_rate), loss = \"categorical_crossentropy\", metrics = [\"accuracy\"])\n",
        "\n",
        "  return model"
      ],
      "metadata": {
        "id": "69jIj4AX0BH6"
      },
      "execution_count": 12,
      "outputs": []
    },
    {
      "cell_type": "code",
      "source": [
        "tuner = kt.Hyperband(\n",
        "    model_constructor,\n",
        "    objective = \"val_accuracy\", #to see generalization in new data\n",
        "    max_epochs=12,\n",
        "    factor = 3,\n",
        "    directory = \"models/\",\n",
        "    project_name = \"brain-lenn-tunner\"\n",
        ")"
      ],
      "metadata": {
        "id": "dIieFIdp0-mj"
      },
      "execution_count": 13,
      "outputs": []
    },
    {
      "cell_type": "code",
      "source": [
        "tuner.search(train_generator, epochs = 12, validation_data = validation_generator)\n",
        "\n",
        "best_hps = tuner.get_best_hyperparameters(num_trials = 1)[0]\n",
        "                                          #trials help us to re-test the result"
      ],
      "metadata": {
        "colab": {
          "base_uri": "https://localhost:8080/"
        },
        "id": "kfwnDFlx1QMh",
        "outputId": "5173f330-28f8-4dd6-f5a5-311c1a7fe3c2"
      },
      "execution_count": 14,
      "outputs": [
        {
          "output_type": "stream",
          "name": "stdout",
          "text": [
            "Trial 30 Complete [00h 03m 52s]\n",
            "val_accuracy: 0.7290076613426208\n",
            "\n",
            "Best val_accuracy So Far: 0.919847309589386\n",
            "Total elapsed time: 00h 44m 15s\n"
          ]
        }
      ]
    },
    {
      "cell_type": "code",
      "source": [
        "print(best_hps.get(\"units\")) #to get the best configuration of neurons"
      ],
      "metadata": {
        "id": "6atExCmO1c43",
        "colab": {
          "base_uri": "https://localhost:8080/"
        },
        "outputId": "055cf8e4-8eea-450d-c48b-ae1105f6ecff"
      },
      "execution_count": 15,
      "outputs": [
        {
          "output_type": "stream",
          "name": "stdout",
          "text": [
            "70\n"
          ]
        }
      ]
    },
    {
      "cell_type": "code",
      "source": [
        "print(best_hps.get(\"learning_rate\")) #to get the best configuration of learning rate"
      ],
      "metadata": {
        "id": "YdKFIJly1g3r",
        "colab": {
          "base_uri": "https://localhost:8080/"
        },
        "outputId": "cec022a3-a686-49d8-9b5c-f5af6b9daa5a"
      },
      "execution_count": 16,
      "outputs": [
        {
          "output_type": "stream",
          "name": "stdout",
          "text": [
            "0.001\n"
          ]
        }
      ]
    },
    {
      "cell_type": "code",
      "source": [
        "callback_early = tf.keras.callbacks.EarlyStopping(monitor = \"loss\", patience = 3, mode = \"auto\") #it could be min or max depends of the metric"
      ],
      "metadata": {
        "id": "pdaLSa9HaScM"
      },
      "execution_count": 17,
      "outputs": []
    },
    {
      "cell_type": "code",
      "source": [
        "hypermodel = tuner.hypermodel.build(best_hps)\n",
        "\n",
        "history_hypermodel = hypermodel.fit(\n",
        "    train_generator,\n",
        "    epochs = 12,\n",
        "    callbacks = [callback_early],\n",
        "    validation_data = validation_generator\n",
        ")"
      ],
      "metadata": {
        "id": "cleAzn-nuOqx",
        "colab": {
          "base_uri": "https://localhost:8080/"
        },
        "outputId": "fa4ea488-64d6-4b7d-e569-e152a7e58fb9"
      },
      "execution_count": 18,
      "outputs": [
        {
          "output_type": "stream",
          "name": "stdout",
          "text": [
            "Epoch 1/12\n",
            "476/476 [==============================] - 19s 36ms/step - loss: 0.8998 - accuracy: 0.6131 - val_loss: 0.8801 - val_accuracy: 0.6679\n",
            "Epoch 2/12\n",
            "476/476 [==============================] - 19s 39ms/step - loss: 0.5691 - accuracy: 0.7798 - val_loss: 0.6755 - val_accuracy: 0.6794\n",
            "Epoch 3/12\n",
            "476/476 [==============================] - 18s 37ms/step - loss: 0.4587 - accuracy: 0.8300 - val_loss: 0.6305 - val_accuracy: 0.6947\n",
            "Epoch 4/12\n",
            "476/476 [==============================] - 17s 37ms/step - loss: 0.3888 - accuracy: 0.8517 - val_loss: 0.5082 - val_accuracy: 0.7786\n",
            "Epoch 5/12\n",
            "476/476 [==============================] - 18s 38ms/step - loss: 0.3475 - accuracy: 0.8683 - val_loss: 0.4343 - val_accuracy: 0.8244\n",
            "Epoch 6/12\n",
            "476/476 [==============================] - 17s 36ms/step - loss: 0.3081 - accuracy: 0.8836 - val_loss: 0.5035 - val_accuracy: 0.8053\n",
            "Epoch 7/12\n",
            "476/476 [==============================] - 18s 38ms/step - loss: 0.2741 - accuracy: 0.9025 - val_loss: 0.4004 - val_accuracy: 0.8664\n",
            "Epoch 8/12\n",
            "476/476 [==============================] - 17s 36ms/step - loss: 0.2328 - accuracy: 0.9207 - val_loss: 0.3088 - val_accuracy: 0.9008\n",
            "Epoch 9/12\n",
            "476/476 [==============================] - 17s 36ms/step - loss: 0.2055 - accuracy: 0.9347 - val_loss: 0.3215 - val_accuracy: 0.9008\n",
            "Epoch 10/12\n",
            "476/476 [==============================] - 17s 36ms/step - loss: 0.1912 - accuracy: 0.9364 - val_loss: 0.3231 - val_accuracy: 0.8931\n",
            "Epoch 11/12\n",
            "476/476 [==============================] - 17s 37ms/step - loss: 0.1754 - accuracy: 0.9412 - val_loss: 0.2552 - val_accuracy: 0.9198\n",
            "Epoch 12/12\n",
            "476/476 [==============================] - 17s 36ms/step - loss: 0.1672 - accuracy: 0.9452 - val_loss: 0.2958 - val_accuracy: 0.8969\n"
          ]
        }
      ]
    },
    {
      "cell_type": "code",
      "source": [
        "# to save the config of the model\n",
        "config_dict = hypermodel.get_config()"
      ],
      "metadata": {
        "id": "u1cHtNYEmsFm"
      },
      "execution_count": 19,
      "outputs": []
    },
    {
      "cell_type": "code",
      "source": [
        "print(config_dict)"
      ],
      "metadata": {
        "colab": {
          "base_uri": "https://localhost:8080/"
        },
        "id": "WyVG0tMomvvr",
        "outputId": "6a6d3eaf-3d85-4eb1-ba21-c5987e37ea1d"
      },
      "execution_count": 20,
      "outputs": [
        {
          "output_type": "stream",
          "name": "stdout",
          "text": [
            "{'name': 'sequential_1', 'layers': [{'class_name': 'InputLayer', 'config': {'batch_input_shape': (None, 32, 32, 1), 'dtype': 'float32', 'sparse': False, 'ragged': False, 'name': 'conv2d_1_input'}}, {'class_name': 'Conv2D', 'config': {'name': 'conv2d_1', 'trainable': True, 'dtype': 'float32', 'batch_input_shape': (None, 32, 32, 1), 'filters': 20, 'kernel_size': (3, 3), 'strides': (1, 1), 'padding': 'valid', 'data_format': 'channels_last', 'dilation_rate': (1, 1), 'groups': 1, 'activation': 'relu', 'use_bias': True, 'kernel_initializer': {'class_name': 'GlorotUniform', 'config': {'seed': None}}, 'bias_initializer': {'class_name': 'Zeros', 'config': {}}, 'kernel_regularizer': None, 'bias_regularizer': None, 'activity_regularizer': None, 'kernel_constraint': None, 'bias_constraint': None}}, {'class_name': 'MaxPooling2D', 'config': {'name': 'max_pooling2d_1', 'trainable': True, 'dtype': 'float32', 'pool_size': (2, 2), 'padding': 'valid', 'strides': (2, 2), 'data_format': 'channels_last'}}, {'class_name': 'Flatten', 'config': {'name': 'flatten_1', 'trainable': True, 'dtype': 'float32', 'data_format': 'channels_last'}}, {'class_name': 'Dense', 'config': {'name': 'dense_3', 'trainable': True, 'dtype': 'float32', 'units': 70, 'activation': 'relu', 'use_bias': True, 'kernel_initializer': {'class_name': 'GlorotUniform', 'config': {'seed': None}}, 'bias_initializer': {'class_name': 'Zeros', 'config': {}}, 'kernel_regularizer': {'class_name': 'L2', 'config': {'l2': 9.999999747378752e-06}}, 'bias_regularizer': None, 'activity_regularizer': None, 'kernel_constraint': None, 'bias_constraint': None}}, {'class_name': 'Dropout', 'config': {'name': 'dropout_2', 'trainable': True, 'dtype': 'float32', 'rate': 0.2, 'noise_shape': None, 'seed': None}}, {'class_name': 'Dense', 'config': {'name': 'dense_4', 'trainable': True, 'dtype': 'float32', 'units': 10, 'activation': 'relu', 'use_bias': True, 'kernel_initializer': {'class_name': 'GlorotUniform', 'config': {'seed': None}}, 'bias_initializer': {'class_name': 'Zeros', 'config': {}}, 'kernel_regularizer': {'class_name': 'L2', 'config': {'l2': 9.999999747378752e-06}}, 'bias_regularizer': None, 'activity_regularizer': None, 'kernel_constraint': None, 'bias_constraint': None}}, {'class_name': 'Dropout', 'config': {'name': 'dropout_3', 'trainable': True, 'dtype': 'float32', 'rate': 0.2, 'noise_shape': None, 'seed': None}}, {'class_name': 'Dense', 'config': {'name': 'dense_5', 'trainable': True, 'dtype': 'float32', 'units': 4, 'activation': 'softmax', 'use_bias': True, 'kernel_initializer': {'class_name': 'GlorotUniform', 'config': {'seed': None}}, 'bias_initializer': {'class_name': 'Zeros', 'config': {}}, 'kernel_regularizer': None, 'bias_regularizer': None, 'activity_regularizer': None, 'kernel_constraint': None, 'bias_constraint': None}}]}\n"
          ]
        }
      ]
    },
    {
      "cell_type": "code",
      "source": [
        "model_same_config = tf.keras.Sequential.from_config(config_dict)"
      ],
      "metadata": {
        "id": "VPBcoJTOm0yl"
      },
      "execution_count": 21,
      "outputs": []
    },
    {
      "cell_type": "code",
      "source": [
        "model_same_config.summary()"
      ],
      "metadata": {
        "colab": {
          "base_uri": "https://localhost:8080/"
        },
        "id": "Y2UzQVFDm7iQ",
        "outputId": "162d3aa2-7960-4b85-c54b-1f20781ab585"
      },
      "execution_count": 22,
      "outputs": [
        {
          "output_type": "stream",
          "name": "stdout",
          "text": [
            "Model: \"sequential_1\"\n",
            "_________________________________________________________________\n",
            " Layer (type)                Output Shape              Param #   \n",
            "=================================================================\n",
            " conv2d_1 (Conv2D)           (None, 30, 30, 20)        200       \n",
            "                                                                 \n",
            " max_pooling2d_1 (MaxPooling  (None, 15, 15, 20)       0         \n",
            " 2D)                                                             \n",
            "                                                                 \n",
            " flatten_1 (Flatten)         (None, 4500)              0         \n",
            "                                                                 \n",
            " dense_3 (Dense)             (None, 70)                315070    \n",
            "                                                                 \n",
            " dropout_2 (Dropout)         (None, 70)                0         \n",
            "                                                                 \n",
            " dense_4 (Dense)             (None, 10)                710       \n",
            "                                                                 \n",
            " dropout_3 (Dropout)         (None, 10)                0         \n",
            "                                                                 \n",
            " dense_5 (Dense)             (None, 4)                 44        \n",
            "                                                                 \n",
            "=================================================================\n",
            "Total params: 316,024\n",
            "Trainable params: 316,024\n",
            "Non-trainable params: 0\n",
            "_________________________________________________________________\n"
          ]
        }
      ]
    },
    {
      "cell_type": "code",
      "source": [
        "from tensorflow.keras.callbacks import ModelCheckpoint"
      ],
      "metadata": {
        "id": "aPurqU3knER5"
      },
      "execution_count": 23,
      "outputs": []
    },
    {
      "cell_type": "code",
      "source": [
        "def get_model():\n",
        "   model = tf.keras.models.Sequential([\n",
        "             tf.keras.layers.Conv2D(20, (3,3), activation = \"relu\", input_shape = (32, 32,1)),\n",
        "             tf.keras.layers.MaxPool2D((2,2)),\n",
        "             tf.keras.layers.Flatten(),\n",
        "             tf.keras.layers.Dense(40, kernel_regularizer= regularizers.l2(0.001), activation = \"relu\"),\n",
        "             tf.keras.layers.Dropout(0.2),\n",
        "             tf.keras.layers.Dense(10, kernel_regularizer= regularizers.l2(0.001), activation = \"relu\"),\n",
        "             tf.keras.layers.Dropout(0.2),\n",
        "             tf.keras.layers.Dense(len(classes), activation =\"softmax\")\n",
        "   ])\n",
        "   return model\n",
        "\n",
        "model_early =  get_model()\n",
        "model_early.summary()\n",
        "\n",
        "model_early.compile(optimizer= \"adam\", loss = \"categorical_crossentropy\", metrics = [\"accuracy\"])"
      ],
      "metadata": {
        "colab": {
          "base_uri": "https://localhost:8080/"
        },
        "id": "rm18KpSrc4Ev",
        "outputId": "08bac0c1-df4a-40cc-d970-9ced52731c09"
      },
      "execution_count": 24,
      "outputs": [
        {
          "output_type": "stream",
          "name": "stdout",
          "text": [
            "Model: \"sequential_2\"\n",
            "_________________________________________________________________\n",
            " Layer (type)                Output Shape              Param #   \n",
            "=================================================================\n",
            " conv2d_2 (Conv2D)           (None, 30, 30, 20)        200       \n",
            "                                                                 \n",
            " max_pooling2d_2 (MaxPooling  (None, 15, 15, 20)       0         \n",
            " 2D)                                                             \n",
            "                                                                 \n",
            " flatten_2 (Flatten)         (None, 4500)              0         \n",
            "                                                                 \n",
            " dense_6 (Dense)             (None, 40)                180040    \n",
            "                                                                 \n",
            " dropout_4 (Dropout)         (None, 40)                0         \n",
            "                                                                 \n",
            " dense_7 (Dense)             (None, 10)                410       \n",
            "                                                                 \n",
            " dropout_5 (Dropout)         (None, 10)                0         \n",
            "                                                                 \n",
            " dense_8 (Dense)             (None, 4)                 44        \n",
            "                                                                 \n",
            "=================================================================\n",
            "Total params: 180,694\n",
            "Trainable params: 180,694\n",
            "Non-trainable params: 0\n",
            "_________________________________________________________________\n"
          ]
        }
      ]
    },
    {
      "cell_type": "code",
      "source": [
        "model_weight = get_model()\n",
        "model_weight.summary()"
      ],
      "metadata": {
        "id": "cU8GeIW3nIiD",
        "outputId": "5ea2995f-4dc4-4d73-8498-2efffcd0e2a6",
        "colab": {
          "base_uri": "https://localhost:8080/"
        }
      },
      "execution_count": 25,
      "outputs": [
        {
          "output_type": "stream",
          "name": "stdout",
          "text": [
            "Model: \"sequential_3\"\n",
            "_________________________________________________________________\n",
            " Layer (type)                Output Shape              Param #   \n",
            "=================================================================\n",
            " conv2d_3 (Conv2D)           (None, 30, 30, 20)        200       \n",
            "                                                                 \n",
            " max_pooling2d_3 (MaxPooling  (None, 15, 15, 20)       0         \n",
            " 2D)                                                             \n",
            "                                                                 \n",
            " flatten_3 (Flatten)         (None, 4500)              0         \n",
            "                                                                 \n",
            " dense_9 (Dense)             (None, 40)                180040    \n",
            "                                                                 \n",
            " dropout_6 (Dropout)         (None, 40)                0         \n",
            "                                                                 \n",
            " dense_10 (Dense)            (None, 10)                410       \n",
            "                                                                 \n",
            " dropout_7 (Dropout)         (None, 10)                0         \n",
            "                                                                 \n",
            " dense_11 (Dense)            (None, 4)                 44        \n",
            "                                                                 \n",
            "=================================================================\n",
            "Total params: 180,694\n",
            "Trainable params: 180,694\n",
            "Non-trainable params: 0\n",
            "_________________________________________________________________\n"
          ]
        }
      ]
    },
    {
      "cell_type": "code",
      "source": [
        "model_weight.compile(optimizer = \"adam\", loss = \"categorical_crossentropy\", metrics = [\"accuracy\"])"
      ],
      "metadata": {
        "id": "EHpxUan8fHEK"
      },
      "execution_count": 26,
      "outputs": []
    },
    {
      "cell_type": "code",
      "source": [
        "checkpoint_path = \"model_checkpoints/checkpoint\"\n",
        "checkpoint_weights = ModelCheckpoint(\n",
        "    filepath = checkpoint_path,\n",
        "    frecuency = \"epoch\",\n",
        "    save_weights_only = True,\n",
        "    verbose = 1 #show us information during training\n",
        ")"
      ],
      "metadata": {
        "id": "wRqw04lvfJJW"
      },
      "execution_count": 27,
      "outputs": []
    },
    {
      "cell_type": "code",
      "source": [
        "history_weigth = model_weight.fit(\n",
        "    train_generator,\n",
        "    epochs = 20,\n",
        "    callbacks = [checkpoint_weights],\n",
        "    validation_data = validation_generator\n",
        ")"
      ],
      "metadata": {
        "colab": {
          "base_uri": "https://localhost:8080/"
        },
        "id": "vjsKOB9cfM1W",
        "outputId": "6df547c5-c002-4141-9d60-8aa9f835840a"
      },
      "execution_count": 28,
      "outputs": [
        {
          "output_type": "stream",
          "name": "stdout",
          "text": [
            "Epoch 1/20\n",
            "476/476 [==============================] - ETA: 0s - loss: 0.9999 - accuracy: 0.5858\n",
            "Epoch 1: saving model to model_checkpoints/checkpoint\n",
            "476/476 [==============================] - 21s 39ms/step - loss: 0.9999 - accuracy: 0.5858 - val_loss: 1.1468 - val_accuracy: 0.6679\n",
            "Epoch 2/20\n",
            "476/476 [==============================] - ETA: 0s - loss: 0.7157 - accuracy: 0.7461\n",
            "Epoch 2: saving model to model_checkpoints/checkpoint\n",
            "476/476 [==============================] - 17s 36ms/step - loss: 0.7157 - accuracy: 0.7461 - val_loss: 0.8379 - val_accuracy: 0.6908\n",
            "Epoch 3/20\n",
            "475/476 [============================>.] - ETA: 0s - loss: 0.6341 - accuracy: 0.7804\n",
            "Epoch 3: saving model to model_checkpoints/checkpoint\n",
            "476/476 [==============================] - 18s 38ms/step - loss: 0.6342 - accuracy: 0.7803 - val_loss: 0.7421 - val_accuracy: 0.7023\n",
            "Epoch 4/20\n",
            "476/476 [==============================] - ETA: 0s - loss: 0.5857 - accuracy: 0.7924\n",
            "Epoch 4: saving model to model_checkpoints/checkpoint\n",
            "476/476 [==============================] - 17s 36ms/step - loss: 0.5857 - accuracy: 0.7924 - val_loss: 0.6552 - val_accuracy: 0.7672\n",
            "Epoch 5/20\n",
            "475/476 [============================>.] - ETA: 0s - loss: 0.5694 - accuracy: 0.8118\n",
            "Epoch 5: saving model to model_checkpoints/checkpoint\n",
            "476/476 [==============================] - 17s 36ms/step - loss: 0.5696 - accuracy: 0.8116 - val_loss: 0.6814 - val_accuracy: 0.7405\n",
            "Epoch 6/20\n",
            "475/476 [============================>.] - ETA: 0s - loss: 0.5216 - accuracy: 0.8400\n",
            "Epoch 6: saving model to model_checkpoints/checkpoint\n",
            "476/476 [==============================] - 18s 38ms/step - loss: 0.5213 - accuracy: 0.8400 - val_loss: 0.5823 - val_accuracy: 0.7939\n",
            "Epoch 7/20\n",
            "475/476 [============================>.] - ETA: 0s - loss: 0.5093 - accuracy: 0.8463\n",
            "Epoch 7: saving model to model_checkpoints/checkpoint\n",
            "476/476 [==============================] - 19s 39ms/step - loss: 0.5092 - accuracy: 0.8463 - val_loss: 0.8326 - val_accuracy: 0.6947\n",
            "Epoch 8/20\n",
            "475/476 [============================>.] - ETA: 0s - loss: 0.4907 - accuracy: 0.8565\n",
            "Epoch 8: saving model to model_checkpoints/checkpoint\n",
            "476/476 [==============================] - 17s 37ms/step - loss: 0.4912 - accuracy: 0.8563 - val_loss: 0.6635 - val_accuracy: 0.7786\n",
            "Epoch 9/20\n",
            "476/476 [==============================] - ETA: 0s - loss: 0.4710 - accuracy: 0.8633\n",
            "Epoch 9: saving model to model_checkpoints/checkpoint\n",
            "476/476 [==============================] - 17s 36ms/step - loss: 0.4710 - accuracy: 0.8633 - val_loss: 0.6189 - val_accuracy: 0.7710\n",
            "Epoch 10/20\n",
            "476/476 [==============================] - ETA: 0s - loss: 0.4497 - accuracy: 0.8752\n",
            "Epoch 10: saving model to model_checkpoints/checkpoint\n",
            "476/476 [==============================] - 19s 40ms/step - loss: 0.4497 - accuracy: 0.8752 - val_loss: 0.5849 - val_accuracy: 0.8015\n",
            "Epoch 11/20\n",
            "476/476 [==============================] - ETA: 0s - loss: 0.4300 - accuracy: 0.8822\n",
            "Epoch 11: saving model to model_checkpoints/checkpoint\n",
            "476/476 [==============================] - 17s 36ms/step - loss: 0.4300 - accuracy: 0.8822 - val_loss: 0.5360 - val_accuracy: 0.8092\n",
            "Epoch 12/20\n",
            "474/476 [============================>.] - ETA: 0s - loss: 0.4277 - accuracy: 0.8833\n",
            "Epoch 12: saving model to model_checkpoints/checkpoint\n",
            "476/476 [==============================] - 18s 37ms/step - loss: 0.4270 - accuracy: 0.8838 - val_loss: 0.5124 - val_accuracy: 0.8664\n",
            "Epoch 13/20\n",
            "476/476 [==============================] - ETA: 0s - loss: 0.4113 - accuracy: 0.8925\n",
            "Epoch 13: saving model to model_checkpoints/checkpoint\n",
            "476/476 [==============================] - 19s 40ms/step - loss: 0.4113 - accuracy: 0.8925 - val_loss: 0.5073 - val_accuracy: 0.8550\n",
            "Epoch 14/20\n",
            "476/476 [==============================] - ETA: 0s - loss: 0.4126 - accuracy: 0.8946\n",
            "Epoch 14: saving model to model_checkpoints/checkpoint\n",
            "476/476 [==============================] - 18s 37ms/step - loss: 0.4126 - accuracy: 0.8946 - val_loss: 0.4601 - val_accuracy: 0.8740\n",
            "Epoch 15/20\n",
            "475/476 [============================>.] - ETA: 0s - loss: 0.3904 - accuracy: 0.9025\n",
            "Epoch 15: saving model to model_checkpoints/checkpoint\n",
            "476/476 [==============================] - 18s 38ms/step - loss: 0.3903 - accuracy: 0.9025 - val_loss: 0.5090 - val_accuracy: 0.8511\n",
            "Epoch 16/20\n",
            "475/476 [============================>.] - ETA: 0s - loss: 0.3920 - accuracy: 0.9044\n",
            "Epoch 16: saving model to model_checkpoints/checkpoint\n",
            "476/476 [==============================] - 17s 36ms/step - loss: 0.3917 - accuracy: 0.9046 - val_loss: 0.4325 - val_accuracy: 0.9046\n",
            "Epoch 17/20\n",
            "475/476 [============================>.] - ETA: 0s - loss: 0.3795 - accuracy: 0.9068\n",
            "Epoch 17: saving model to model_checkpoints/checkpoint\n",
            "476/476 [==============================] - 18s 37ms/step - loss: 0.3793 - accuracy: 0.9070 - val_loss: 0.4454 - val_accuracy: 0.9160\n",
            "Epoch 18/20\n",
            "476/476 [==============================] - ETA: 0s - loss: 0.3733 - accuracy: 0.9079\n",
            "Epoch 18: saving model to model_checkpoints/checkpoint\n",
            "476/476 [==============================] - 18s 37ms/step - loss: 0.3733 - accuracy: 0.9079 - val_loss: 0.4281 - val_accuracy: 0.9122\n",
            "Epoch 19/20\n",
            "476/476 [==============================] - ETA: 0s - loss: 0.3576 - accuracy: 0.9140\n",
            "Epoch 19: saving model to model_checkpoints/checkpoint\n",
            "476/476 [==============================] - 19s 39ms/step - loss: 0.3576 - accuracy: 0.9140 - val_loss: 0.5778 - val_accuracy: 0.8053\n",
            "Epoch 20/20\n",
            "474/476 [============================>.] - ETA: 0s - loss: 0.3732 - accuracy: 0.9105\n",
            "Epoch 20: saving model to model_checkpoints/checkpoint\n",
            "476/476 [==============================] - 18s 37ms/step - loss: 0.3733 - accuracy: 0.9104 - val_loss: 0.5165 - val_accuracy: 0.8740\n"
          ]
        }
      ]
    },
    {
      "cell_type": "markdown",
      "source": [
        "##Saving Model Weigths"
      ],
      "metadata": {
        "id": "3dyGzYL6fVok"
      }
    },
    {
      "cell_type": "code",
      "source": [
        "checkpoint_path = \"model_checkpoints_complete\" #because we want to save all\n",
        "checkpoint_weights = ModelCheckpoint(\n",
        "    filepath = checkpoint_path,\n",
        "    frecuency = \"epoch\",\n",
        "    save_weights_only = False, #this because we want to save model and wights\n",
        "    monitor = \"val_accuracy\", #to save only the best model\n",
        "    save_best_only = True,\n",
        "    verbose = 1 #show us information during training\n",
        ")"
      ],
      "metadata": {
        "id": "2OV3sGoof0n0"
      },
      "execution_count": 29,
      "outputs": []
    },
    {
      "cell_type": "code",
      "source": [
        "model_complete = get_model()\n",
        "model_complete.compile(optimizer = \"adam\", loss = \"categorical_crossentropy\", metrics = [\"accuracy\"])\n",
        "\n",
        "history_complete = model_complete.fit(\n",
        "    train_generator,\n",
        "    epochs = 20,\n",
        "    callbacks = [checkpoint_weights],\n",
        "    validation_data = validation_generator\n",
        ")"
      ],
      "metadata": {
        "colab": {
          "base_uri": "https://localhost:8080/"
        },
        "id": "PE3R7c0cf6b0",
        "outputId": "9ac6011e-e09c-4d37-9554-a13a479cd4fd"
      },
      "execution_count": 30,
      "outputs": [
        {
          "output_type": "stream",
          "name": "stdout",
          "text": [
            "Epoch 1/20\n",
            "475/476 [============================>.] - ETA: 0s - loss: 0.9642 - accuracy: 0.6095\n",
            "Epoch 1: val_accuracy improved from -inf to 0.64885, saving model to model_checkpoints_complete\n"
          ]
        },
        {
          "output_type": "stream",
          "name": "stderr",
          "text": [
            "WARNING:absl:Found untraced functions such as _jit_compiled_convolution_op while saving (showing 1 of 1). These functions will not be directly callable after loading.\n"
          ]
        },
        {
          "output_type": "stream",
          "name": "stdout",
          "text": [
            "\b\b\b\b\b\b\b\b\b\b\b\b\b\b\b\b\b\b\b\b\b\b\b\b\b\b\b\b\b\b\b\b\b\b\b\b\b\b\b\b\b\b\b\b\b\b\b\b\b\b\b\b\b\b\b\b\b\b\b\b\b\b\b\b\b\b\b\b\b\b\b\b\b\b\b\b\b\b\b\b\b\b\b\b\r476/476 [==============================] - 22s 42ms/step - loss: 0.9642 - accuracy: 0.6101 - val_loss: 0.9910 - val_accuracy: 0.6489\n",
            "Epoch 2/20\n",
            "476/476 [==============================] - ETA: 0s - loss: 0.7173 - accuracy: 0.7528\n",
            "Epoch 2: val_accuracy improved from 0.64885 to 0.66794, saving model to model_checkpoints_complete\n"
          ]
        },
        {
          "output_type": "stream",
          "name": "stderr",
          "text": [
            "WARNING:absl:Found untraced functions such as _jit_compiled_convolution_op while saving (showing 1 of 1). These functions will not be directly callable after loading.\n"
          ]
        },
        {
          "output_type": "stream",
          "name": "stdout",
          "text": [
            "\b\b\b\b\b\b\b\b\b\b\b\b\b\b\b\b\b\b\b\b\b\b\b\b\b\b\b\b\b\b\b\b\b\b\b\b\b\b\b\b\b\b\b\b\b\b\b\b\b\b\b\b\b\b\b\b\b\b\b\b\b\b\b\b\b\b\b\b\b\b\b\b\b\b\b\b\b\b\b\b\b\b\b\b\r476/476 [==============================] - 19s 41ms/step - loss: 0.7173 - accuracy: 0.7528 - val_loss: 0.8816 - val_accuracy: 0.6679\n",
            "Epoch 3/20\n",
            "475/476 [============================>.] - ETA: 0s - loss: 0.6482 - accuracy: 0.7884\n",
            "Epoch 3: val_accuracy improved from 0.66794 to 0.67939, saving model to model_checkpoints_complete\n"
          ]
        },
        {
          "output_type": "stream",
          "name": "stderr",
          "text": [
            "WARNING:absl:Found untraced functions such as _jit_compiled_convolution_op while saving (showing 1 of 1). These functions will not be directly callable after loading.\n"
          ]
        },
        {
          "output_type": "stream",
          "name": "stdout",
          "text": [
            "\b\b\b\b\b\b\b\b\b\b\b\b\b\b\b\b\b\b\b\b\b\b\b\b\b\b\b\b\b\b\b\b\b\b\b\b\b\b\b\b\b\b\b\b\b\b\b\b\b\b\b\b\b\b\b\b\b\b\b\b\b\b\b\b\b\b\b\b\b\b\b\b\b\b\b\b\b\b\b\b\b\b\b\b\r476/476 [==============================] - 18s 38ms/step - loss: 0.6484 - accuracy: 0.7883 - val_loss: 0.7617 - val_accuracy: 0.6794\n",
            "Epoch 4/20\n",
            "476/476 [==============================] - ETA: 0s - loss: 0.6007 - accuracy: 0.8155\n",
            "Epoch 4: val_accuracy improved from 0.67939 to 0.70992, saving model to model_checkpoints_complete\n"
          ]
        },
        {
          "output_type": "stream",
          "name": "stderr",
          "text": [
            "WARNING:absl:Found untraced functions such as _jit_compiled_convolution_op while saving (showing 1 of 1). These functions will not be directly callable after loading.\n"
          ]
        },
        {
          "output_type": "stream",
          "name": "stdout",
          "text": [
            "\b\b\b\b\b\b\b\b\b\b\b\b\b\b\b\b\b\b\b\b\b\b\b\b\b\b\b\b\b\b\b\b\b\b\b\b\b\b\b\b\b\b\b\b\b\b\b\b\b\b\b\b\b\b\b\b\b\b\b\b\b\b\b\b\b\b\b\b\b\b\b\b\b\b\b\b\b\b\b\b\b\b\b\b\r476/476 [==============================] - 18s 39ms/step - loss: 0.6007 - accuracy: 0.8155 - val_loss: 0.7084 - val_accuracy: 0.7099\n",
            "Epoch 5/20\n",
            "475/476 [============================>.] - ETA: 0s - loss: 0.5634 - accuracy: 0.8302\n",
            "Epoch 5: val_accuracy improved from 0.70992 to 0.73664, saving model to model_checkpoints_complete\n"
          ]
        },
        {
          "output_type": "stream",
          "name": "stderr",
          "text": [
            "WARNING:absl:Found untraced functions such as _jit_compiled_convolution_op while saving (showing 1 of 1). These functions will not be directly callable after loading.\n"
          ]
        },
        {
          "output_type": "stream",
          "name": "stdout",
          "text": [
            "\b\b\b\b\b\b\b\b\b\b\b\b\b\b\b\b\b\b\b\b\b\b\b\b\b\b\b\b\b\b\b\b\b\b\b\b\b\b\b\b\b\b\b\b\b\b\b\b\b\b\b\b\b\b\b\b\b\b\b\b\b\b\b\b\b\b\b\b\b\b\b\b\b\b\b\b\b\b\b\b\b\b\b\b\r476/476 [==============================] - 20s 41ms/step - loss: 0.5635 - accuracy: 0.8300 - val_loss: 0.7037 - val_accuracy: 0.7366\n",
            "Epoch 6/20\n",
            "476/476 [==============================] - ETA: 0s - loss: 0.5346 - accuracy: 0.8442\n",
            "Epoch 6: val_accuracy did not improve from 0.73664\n",
            "476/476 [==============================] - 17s 37ms/step - loss: 0.5346 - accuracy: 0.8442 - val_loss: 0.6761 - val_accuracy: 0.7214\n",
            "Epoch 7/20\n",
            "476/476 [==============================] - ETA: 0s - loss: 0.5175 - accuracy: 0.8596\n",
            "Epoch 7: val_accuracy improved from 0.73664 to 0.78244, saving model to model_checkpoints_complete\n"
          ]
        },
        {
          "output_type": "stream",
          "name": "stderr",
          "text": [
            "WARNING:absl:Found untraced functions such as _jit_compiled_convolution_op while saving (showing 1 of 1). These functions will not be directly callable after loading.\n"
          ]
        },
        {
          "output_type": "stream",
          "name": "stdout",
          "text": [
            "\b\b\b\b\b\b\b\b\b\b\b\b\b\b\b\b\b\b\b\b\b\b\b\b\b\b\b\b\b\b\b\b\b\b\b\b\b\b\b\b\b\b\b\b\b\b\b\b\b\b\b\b\b\b\b\b\b\b\b\b\b\b\b\b\b\b\b\b\b\b\b\b\b\b\b\b\b\b\b\b\b\b\b\b\r476/476 [==============================] - 20s 42ms/step - loss: 0.5175 - accuracy: 0.8596 - val_loss: 0.6090 - val_accuracy: 0.7824\n",
            "Epoch 8/20\n",
            "475/476 [============================>.] - ETA: 0s - loss: 0.4771 - accuracy: 0.8668\n",
            "Epoch 8: val_accuracy improved from 0.78244 to 0.82061, saving model to model_checkpoints_complete\n"
          ]
        },
        {
          "output_type": "stream",
          "name": "stderr",
          "text": [
            "WARNING:absl:Found untraced functions such as _jit_compiled_convolution_op while saving (showing 1 of 1). These functions will not be directly callable after loading.\n"
          ]
        },
        {
          "output_type": "stream",
          "name": "stdout",
          "text": [
            "\b\b\b\b\b\b\b\b\b\b\b\b\b\b\b\b\b\b\b\b\b\b\b\b\b\b\b\b\b\b\b\b\b\b\b\b\b\b\b\b\b\b\b\b\b\b\b\b\b\b\b\b\b\b\b\b\b\b\b\b\b\b\b\b\b\b\b\b\b\b\b\b\b\b\b\b\b\b\b\b\b\b\b\b\r476/476 [==============================] - 19s 39ms/step - loss: 0.4766 - accuracy: 0.8671 - val_loss: 0.5754 - val_accuracy: 0.8206\n",
            "Epoch 9/20\n",
            "475/476 [============================>.] - ETA: 0s - loss: 0.4737 - accuracy: 0.8716\n",
            "Epoch 9: val_accuracy did not improve from 0.82061\n",
            "476/476 [==============================] - 17s 36ms/step - loss: 0.4738 - accuracy: 0.8715 - val_loss: 0.5632 - val_accuracy: 0.8206\n",
            "Epoch 10/20\n",
            "475/476 [============================>.] - ETA: 0s - loss: 0.4574 - accuracy: 0.8788\n",
            "Epoch 10: val_accuracy improved from 0.82061 to 0.87023, saving model to model_checkpoints_complete\n"
          ]
        },
        {
          "output_type": "stream",
          "name": "stderr",
          "text": [
            "WARNING:absl:Found untraced functions such as _jit_compiled_convolution_op while saving (showing 1 of 1). These functions will not be directly callable after loading.\n"
          ]
        },
        {
          "output_type": "stream",
          "name": "stdout",
          "text": [
            "\b\b\b\b\b\b\b\b\b\b\b\b\b\b\b\b\b\b\b\b\b\b\b\b\b\b\b\b\b\b\b\b\b\b\b\b\b\b\b\b\b\b\b\b\b\b\b\b\b\b\b\b\b\b\b\b\b\b\b\b\b\b\b\b\b\b\b\b\b\b\b\b\b\b\b\b\b\b\b\b\b\b\b\b\r476/476 [==============================] - 20s 41ms/step - loss: 0.4575 - accuracy: 0.8787 - val_loss: 0.4840 - val_accuracy: 0.8702\n",
            "Epoch 11/20\n",
            "475/476 [============================>.] - ETA: 0s - loss: 0.4452 - accuracy: 0.8837\n",
            "Epoch 11: val_accuracy improved from 0.87023 to 0.88931, saving model to model_checkpoints_complete\n"
          ]
        },
        {
          "output_type": "stream",
          "name": "stderr",
          "text": [
            "WARNING:absl:Found untraced functions such as _jit_compiled_convolution_op while saving (showing 1 of 1). These functions will not be directly callable after loading.\n"
          ]
        },
        {
          "output_type": "stream",
          "name": "stdout",
          "text": [
            "\b\b\b\b\b\b\b\b\b\b\b\b\b\b\b\b\b\b\b\b\b\b\b\b\b\b\b\b\b\b\b\b\b\b\b\b\b\b\b\b\b\b\b\b\b\b\b\b\b\b\b\b\b\b\b\b\b\b\b\b\b\b\b\b\b\b\b\b\b\b\b\b\b\b\b\b\b\b\b\b\b\b\b\b\r476/476 [==============================] - 18s 39ms/step - loss: 0.4453 - accuracy: 0.8834 - val_loss: 0.4219 - val_accuracy: 0.8893\n",
            "Epoch 12/20\n",
            "476/476 [==============================] - ETA: 0s - loss: 0.4337 - accuracy: 0.8901\n",
            "Epoch 12: val_accuracy did not improve from 0.88931\n",
            "476/476 [==============================] - 18s 37ms/step - loss: 0.4337 - accuracy: 0.8901 - val_loss: 0.4407 - val_accuracy: 0.8855\n",
            "Epoch 13/20\n",
            "475/476 [============================>.] - ETA: 0s - loss: 0.4077 - accuracy: 0.9035\n",
            "Epoch 13: val_accuracy did not improve from 0.88931\n",
            "476/476 [==============================] - 18s 37ms/step - loss: 0.4076 - accuracy: 0.9035 - val_loss: 0.5058 - val_accuracy: 0.8626\n",
            "Epoch 14/20\n",
            "476/476 [==============================] - ETA: 0s - loss: 0.4179 - accuracy: 0.8979\n",
            "Epoch 14: val_accuracy did not improve from 0.88931\n",
            "476/476 [==============================] - 17s 37ms/step - loss: 0.4179 - accuracy: 0.8979 - val_loss: 0.4998 - val_accuracy: 0.8702\n",
            "Epoch 15/20\n",
            "475/476 [============================>.] - ETA: 0s - loss: 0.3995 - accuracy: 0.9033\n",
            "Epoch 15: val_accuracy improved from 0.88931 to 0.90458, saving model to model_checkpoints_complete\n"
          ]
        },
        {
          "output_type": "stream",
          "name": "stderr",
          "text": [
            "WARNING:absl:Found untraced functions such as _jit_compiled_convolution_op while saving (showing 1 of 1). These functions will not be directly callable after loading.\n"
          ]
        },
        {
          "output_type": "stream",
          "name": "stdout",
          "text": [
            "\b\b\b\b\b\b\b\b\b\b\b\b\b\b\b\b\b\b\b\b\b\b\b\b\b\b\b\b\b\b\b\b\b\b\b\b\b\b\b\b\b\b\b\b\b\b\b\b\b\b\b\b\b\b\b\b\b\b\b\b\b\b\b\b\b\b\b\b\b\b\b\b\b\b\b\b\b\b\b\b\b\b\b\b\r476/476 [==============================] - 19s 40ms/step - loss: 0.3998 - accuracy: 0.9030 - val_loss: 0.4977 - val_accuracy: 0.9046\n",
            "Epoch 16/20\n",
            "475/476 [============================>.] - ETA: 0s - loss: 0.3717 - accuracy: 0.9191\n",
            "Epoch 16: val_accuracy did not improve from 0.90458\n",
            "476/476 [==============================] - 17s 36ms/step - loss: 0.3719 - accuracy: 0.9191 - val_loss: 0.4708 - val_accuracy: 0.8702\n",
            "Epoch 17/20\n",
            "475/476 [============================>.] - ETA: 0s - loss: 0.3847 - accuracy: 0.9104\n",
            "Epoch 17: val_accuracy did not improve from 0.90458\n",
            "476/476 [==============================] - 18s 37ms/step - loss: 0.3845 - accuracy: 0.9102 - val_loss: 0.5139 - val_accuracy: 0.8550\n",
            "Epoch 18/20\n",
            "475/476 [============================>.] - ETA: 0s - loss: 0.3699 - accuracy: 0.9158\n",
            "Epoch 18: val_accuracy did not improve from 0.90458\n",
            "476/476 [==============================] - 19s 40ms/step - loss: 0.3697 - accuracy: 0.9160 - val_loss: 0.4914 - val_accuracy: 0.8779\n",
            "Epoch 19/20\n",
            "476/476 [==============================] - ETA: 0s - loss: 0.3525 - accuracy: 0.9268\n",
            "Epoch 19: val_accuracy improved from 0.90458 to 0.92366, saving model to model_checkpoints_complete\n"
          ]
        },
        {
          "output_type": "stream",
          "name": "stderr",
          "text": [
            "WARNING:absl:Found untraced functions such as _jit_compiled_convolution_op while saving (showing 1 of 1). These functions will not be directly callable after loading.\n"
          ]
        },
        {
          "output_type": "stream",
          "name": "stdout",
          "text": [
            "\b\b\b\b\b\b\b\b\b\b\b\b\b\b\b\b\b\b\b\b\b\b\b\b\b\b\b\b\b\b\b\b\b\b\b\b\b\b\b\b\b\b\b\b\b\b\b\b\b\b\b\b\b\b\b\b\b\b\b\b\b\b\b\b\b\b\b\b\b\b\b\b\b\b\b\b\b\b\b\b\b\b\b\b\r476/476 [==============================] - 19s 40ms/step - loss: 0.3525 - accuracy: 0.9268 - val_loss: 0.4080 - val_accuracy: 0.9237\n",
            "Epoch 20/20\n",
            "476/476 [==============================] - ETA: 0s - loss: 0.3737 - accuracy: 0.9161\n",
            "Epoch 20: val_accuracy did not improve from 0.92366\n",
            "476/476 [==============================] - 18s 37ms/step - loss: 0.3737 - accuracy: 0.9161 - val_loss: 0.3852 - val_accuracy: 0.9160\n"
          ]
        }
      ]
    },
    {
      "cell_type": "markdown",
      "source": [
        "### Saving in a ZIP"
      ],
      "metadata": {
        "id": "OOvx1Esdf9p0"
      }
    },
    {
      "cell_type": "code",
      "source": [
        "!zip model_checkpoints_complete *"
      ],
      "metadata": {
        "colab": {
          "base_uri": "https://localhost:8080/"
        },
        "id": "07k3X_epf_4u",
        "outputId": "12701e77-5240-4438-ae60-1d7a3b305aaf"
      },
      "execution_count": 31,
      "outputs": [
        {
          "output_type": "stream",
          "name": "stdout",
          "text": [
            "  adding: content/ (stored 0%)\n",
            "  adding: drive/ (stored 0%)\n",
            "  adding: model_checkpoints/ (stored 0%)\n",
            "  adding: model_checkpoints_complete/ (stored 0%)\n",
            "  adding: models/ (stored 0%)\n",
            "  adding: sample_data/ (stored 0%)\n"
          ]
        }
      ]
    },
    {
      "cell_type": "markdown",
      "source": [
        "### Saving in H5py"
      ],
      "metadata": {
        "id": "TsMRa4Z2gRvw"
      }
    },
    {
      "cell_type": "code",
      "source": [
        "!pip install pyyaml h5py"
      ],
      "metadata": {
        "colab": {
          "base_uri": "https://localhost:8080/"
        },
        "id": "GQpEzXk7gBxs",
        "outputId": "b43c4260-b1a4-4c0f-dd02-2a8fcfa4718b"
      },
      "execution_count": 32,
      "outputs": [
        {
          "output_type": "stream",
          "name": "stdout",
          "text": [
            "Requirement already satisfied: pyyaml in /usr/local/lib/python3.10/dist-packages (6.0)\n",
            "Requirement already satisfied: h5py in /usr/local/lib/python3.10/dist-packages (3.8.0)\n",
            "Requirement already satisfied: numpy>=1.14.5 in /usr/local/lib/python3.10/dist-packages (from h5py) (1.22.4)\n"
          ]
        }
      ]
    },
    {
      "cell_type": "code",
      "source": [
        "model_complete.save(\"save_model_complete/mymodel\")"
      ],
      "metadata": {
        "colab": {
          "base_uri": "https://localhost:8080/"
        },
        "id": "W7EyHfCo4Ovv",
        "outputId": "72fcc74b-47af-4981-cf79-dd5880e23b7a"
      },
      "execution_count": 33,
      "outputs": [
        {
          "output_type": "stream",
          "name": "stderr",
          "text": [
            "WARNING:absl:Found untraced functions such as _jit_compiled_convolution_op while saving (showing 1 of 1). These functions will not be directly callable after loading.\n"
          ]
        }
      ]
    },
    {
      "cell_type": "code",
      "source": [
        "model_completenew = tf.keras.models.load_model(\"save_model_complete/mymodel\")"
      ],
      "metadata": {
        "id": "KUAOCa_R4Qa0"
      },
      "execution_count": 34,
      "outputs": []
    },
    {
      "cell_type": "code",
      "source": [
        "model_completenew.evaluate(test_generator)"
      ],
      "metadata": {
        "colab": {
          "base_uri": "https://localhost:8080/"
        },
        "id": "ftDQPwe24SsC",
        "outputId": "57fcc606-7638-47fe-c929-c06f03ab16a4"
      },
      "execution_count": 35,
      "outputs": [
        {
          "output_type": "stream",
          "name": "stdout",
          "text": [
            "110/110 [==============================] - 6s 51ms/step - loss: 0.3940 - accuracy: 0.9077\n"
          ]
        },
        {
          "output_type": "execute_result",
          "data": {
            "text/plain": [
              "[0.3940390944480896, 0.9077040553092957]"
            ]
          },
          "metadata": {},
          "execution_count": 35
        }
      ]
    },
    {
      "cell_type": "code",
      "source": [
        "model_complete.evaluate(test_generator)"
      ],
      "metadata": {
        "colab": {
          "base_uri": "https://localhost:8080/"
        },
        "id": "TTnjMWpG4UoL",
        "outputId": "4918f6cf-f48a-4c69-afbb-0fb00617d880"
      },
      "execution_count": 36,
      "outputs": [
        {
          "output_type": "stream",
          "name": "stdout",
          "text": [
            "110/110 [==============================] - 5s 49ms/step - loss: 0.3940 - accuracy: 0.9077\n"
          ]
        },
        {
          "output_type": "execute_result",
          "data": {
            "text/plain": [
              "[0.3940391540527344, 0.9077040553092957]"
            ]
          },
          "metadata": {},
          "execution_count": 36
        }
      ]
    },
    {
      "cell_type": "code",
      "source": [
        "model_completenew.save(\"brain_model.h5\")"
      ],
      "metadata": {
        "id": "wiqYn7p_5xeU"
      },
      "execution_count": 37,
      "outputs": []
    },
    {
      "cell_type": "code",
      "source": [
        "model_completenew2 = tf.keras.models.load_model(\"brain_model.h5\")"
      ],
      "metadata": {
        "id": "8w_JgIEfgamx"
      },
      "execution_count": 38,
      "outputs": []
    },
    {
      "cell_type": "code",
      "source": [
        "model_completenew2.evaluate(test_generator)"
      ],
      "metadata": {
        "colab": {
          "base_uri": "https://localhost:8080/"
        },
        "id": "xyGjhRfJgd6k",
        "outputId": "ef84993a-a1eb-4252-f011-845272599b49"
      },
      "execution_count": 39,
      "outputs": [
        {
          "output_type": "stream",
          "name": "stdout",
          "text": [
            "110/110 [==============================] - 5s 43ms/step - loss: 0.3940 - accuracy: 0.9077\n"
          ]
        },
        {
          "output_type": "execute_result",
          "data": {
            "text/plain": [
              "[0.3940390646457672, 0.9077040553092957]"
            ]
          },
          "metadata": {},
          "execution_count": 39
        }
      ]
    },
    {
      "cell_type": "markdown",
      "source": [
        "## Saving the model to use tendorflowJS"
      ],
      "metadata": {
        "id": "6Ls9yq2JmINr"
      }
    },
    {
      "cell_type": "code",
      "source": [
        "!pip install tensorflowjs"
      ],
      "metadata": {
        "id": "stH4xgtrmGSy",
        "outputId": "78c3fca3-bf99-4080-c982-d2c91f8eff94",
        "colab": {
          "base_uri": "https://localhost:8080/",
          "height": 1000
        }
      },
      "execution_count": 40,
      "outputs": [
        {
          "output_type": "stream",
          "name": "stdout",
          "text": [
            "Collecting tensorflowjs\n",
            "  Downloading tensorflowjs-4.9.0-py3-none-any.whl (89 kB)\n",
            "\u001b[?25l     \u001b[90m━━━━━━━━━━━━━━━━━━━━━━━━━━━━━━━━━━━━━━━━\u001b[0m \u001b[32m0.0/89.0 kB\u001b[0m \u001b[31m?\u001b[0m eta \u001b[36m-:--:--\u001b[0m\r\u001b[2K     \u001b[90m━━━━━━━━━━━━━━━━━━━━━━━━━━━━━━━━━━━━━━━━\u001b[0m \u001b[32m89.0/89.0 kB\u001b[0m \u001b[31m4.3 MB/s\u001b[0m eta \u001b[36m0:00:00\u001b[0m\n",
            "\u001b[?25hCollecting flax<0.6.3,>=0.6.2 (from tensorflowjs)\n",
            "  Downloading flax-0.6.2-py3-none-any.whl (189 kB)\n",
            "\u001b[2K     \u001b[90m━━━━━━━━━━━━━━━━━━━━━━━━━━━━━━━━━━━━━━\u001b[0m \u001b[32m189.9/189.9 kB\u001b[0m \u001b[31m11.8 MB/s\u001b[0m eta \u001b[36m0:00:00\u001b[0m\n",
            "\u001b[?25hRequirement already satisfied: importlib_resources>=5.9.0 in /usr/local/lib/python3.10/dist-packages (from tensorflowjs) (6.0.0)\n",
            "Requirement already satisfied: jax>=0.3.16 in /usr/local/lib/python3.10/dist-packages (from tensorflowjs) (0.4.13)\n",
            "Requirement already satisfied: tensorflow<3,>=2.12.0 in /usr/local/lib/python3.10/dist-packages (from tensorflowjs) (2.12.0)\n",
            "Collecting tensorflow-decision-forests>=1.3.0 (from tensorflowjs)\n",
            "  Downloading tensorflow_decision_forests-1.5.0-cp310-cp310-manylinux_2_17_x86_64.manylinux2014_x86_64.whl (16.8 MB)\n",
            "\u001b[2K     \u001b[90m━━━━━━━━━━━━━━━━━━━━━━━━━━━━━━━━━━━━━━━━\u001b[0m \u001b[32m16.8/16.8 MB\u001b[0m \u001b[31m78.8 MB/s\u001b[0m eta \u001b[36m0:00:00\u001b[0m\n",
            "\u001b[?25hRequirement already satisfied: six<2,>=1.12.0 in /usr/local/lib/python3.10/dist-packages (from tensorflowjs) (1.16.0)\n",
            "Requirement already satisfied: tensorflow-hub>=0.13.0 in /usr/local/lib/python3.10/dist-packages (from tensorflowjs) (0.14.0)\n",
            "Collecting packaging~=20.9 (from tensorflowjs)\n",
            "  Downloading packaging-20.9-py2.py3-none-any.whl (40 kB)\n",
            "\u001b[2K     \u001b[90m━━━━━━━━━━━━━━━━━━━━━━━━━━━━━━━━━━━━━━━━\u001b[0m \u001b[32m40.9/40.9 kB\u001b[0m \u001b[31m4.9 MB/s\u001b[0m eta \u001b[36m0:00:00\u001b[0m\n",
            "\u001b[?25hRequirement already satisfied: numpy>=1.12 in /usr/local/lib/python3.10/dist-packages (from flax<0.6.3,>=0.6.2->tensorflowjs) (1.22.4)\n",
            "Requirement already satisfied: matplotlib in /usr/local/lib/python3.10/dist-packages (from flax<0.6.3,>=0.6.2->tensorflowjs) (3.7.1)\n",
            "Requirement already satisfied: msgpack in /usr/local/lib/python3.10/dist-packages (from flax<0.6.3,>=0.6.2->tensorflowjs) (1.0.5)\n",
            "Requirement already satisfied: optax in /usr/local/lib/python3.10/dist-packages (from flax<0.6.3,>=0.6.2->tensorflowjs) (0.1.5)\n",
            "Requirement already satisfied: tensorstore in /usr/local/lib/python3.10/dist-packages (from flax<0.6.3,>=0.6.2->tensorflowjs) (0.1.40)\n",
            "Requirement already satisfied: rich>=11.1 in /usr/local/lib/python3.10/dist-packages (from flax<0.6.3,>=0.6.2->tensorflowjs) (13.4.2)\n",
            "Requirement already satisfied: typing-extensions>=4.1.1 in /usr/local/lib/python3.10/dist-packages (from flax<0.6.3,>=0.6.2->tensorflowjs) (4.7.1)\n",
            "Requirement already satisfied: PyYAML>=5.4.1 in /usr/local/lib/python3.10/dist-packages (from flax<0.6.3,>=0.6.2->tensorflowjs) (6.0)\n",
            "Requirement already satisfied: ml-dtypes>=0.1.0 in /usr/local/lib/python3.10/dist-packages (from jax>=0.3.16->tensorflowjs) (0.2.0)\n",
            "Requirement already satisfied: opt-einsum in /usr/local/lib/python3.10/dist-packages (from jax>=0.3.16->tensorflowjs) (3.3.0)\n",
            "Requirement already satisfied: scipy>=1.7 in /usr/local/lib/python3.10/dist-packages (from jax>=0.3.16->tensorflowjs) (1.10.1)\n",
            "Requirement already satisfied: pyparsing>=2.0.2 in /usr/local/lib/python3.10/dist-packages (from packaging~=20.9->tensorflowjs) (3.1.0)\n",
            "Requirement already satisfied: absl-py>=1.0.0 in /usr/local/lib/python3.10/dist-packages (from tensorflow<3,>=2.12.0->tensorflowjs) (1.4.0)\n",
            "Requirement already satisfied: astunparse>=1.6.0 in /usr/local/lib/python3.10/dist-packages (from tensorflow<3,>=2.12.0->tensorflowjs) (1.6.3)\n",
            "Requirement already satisfied: flatbuffers>=2.0 in /usr/local/lib/python3.10/dist-packages (from tensorflow<3,>=2.12.0->tensorflowjs) (23.5.26)\n",
            "Requirement already satisfied: gast<=0.4.0,>=0.2.1 in /usr/local/lib/python3.10/dist-packages (from tensorflow<3,>=2.12.0->tensorflowjs) (0.4.0)\n",
            "Requirement already satisfied: google-pasta>=0.1.1 in /usr/local/lib/python3.10/dist-packages (from tensorflow<3,>=2.12.0->tensorflowjs) (0.2.0)\n",
            "Requirement already satisfied: grpcio<2.0,>=1.24.3 in /usr/local/lib/python3.10/dist-packages (from tensorflow<3,>=2.12.0->tensorflowjs) (1.56.0)\n",
            "Requirement already satisfied: h5py>=2.9.0 in /usr/local/lib/python3.10/dist-packages (from tensorflow<3,>=2.12.0->tensorflowjs) (3.8.0)\n",
            "Requirement already satisfied: keras<2.13,>=2.12.0 in /usr/local/lib/python3.10/dist-packages (from tensorflow<3,>=2.12.0->tensorflowjs) (2.12.0)\n",
            "Requirement already satisfied: libclang>=13.0.0 in /usr/local/lib/python3.10/dist-packages (from tensorflow<3,>=2.12.0->tensorflowjs) (16.0.0)\n",
            "Requirement already satisfied: protobuf!=4.21.0,!=4.21.1,!=4.21.2,!=4.21.3,!=4.21.4,!=4.21.5,<5.0.0dev,>=3.20.3 in /usr/local/lib/python3.10/dist-packages (from tensorflow<3,>=2.12.0->tensorflowjs) (3.20.3)\n",
            "Requirement already satisfied: setuptools in /usr/local/lib/python3.10/dist-packages (from tensorflow<3,>=2.12.0->tensorflowjs) (67.7.2)\n",
            "Requirement already satisfied: tensorboard<2.13,>=2.12 in /usr/local/lib/python3.10/dist-packages (from tensorflow<3,>=2.12.0->tensorflowjs) (2.12.3)\n",
            "Requirement already satisfied: tensorflow-estimator<2.13,>=2.12.0 in /usr/local/lib/python3.10/dist-packages (from tensorflow<3,>=2.12.0->tensorflowjs) (2.12.0)\n",
            "Requirement already satisfied: termcolor>=1.1.0 in /usr/local/lib/python3.10/dist-packages (from tensorflow<3,>=2.12.0->tensorflowjs) (2.3.0)\n",
            "Requirement already satisfied: wrapt<1.15,>=1.11.0 in /usr/local/lib/python3.10/dist-packages (from tensorflow<3,>=2.12.0->tensorflowjs) (1.14.1)\n",
            "Requirement already satisfied: tensorflow-io-gcs-filesystem>=0.23.1 in /usr/local/lib/python3.10/dist-packages (from tensorflow<3,>=2.12.0->tensorflowjs) (0.32.0)\n",
            "Requirement already satisfied: pandas in /usr/local/lib/python3.10/dist-packages (from tensorflow-decision-forests>=1.3.0->tensorflowjs) (1.5.3)\n",
            "Collecting tensorflow<3,>=2.12.0 (from tensorflowjs)\n",
            "  Downloading tensorflow-2.13.0-cp310-cp310-manylinux_2_17_x86_64.manylinux2014_x86_64.whl (524.1 MB)\n",
            "\u001b[2K     \u001b[90m━━━━━━━━━━━━━━━━━━━━━━━━━━━━━━━━━━━━━━━\u001b[0m \u001b[32m524.1/524.1 MB\u001b[0m \u001b[31m2.8 MB/s\u001b[0m eta \u001b[36m0:00:00\u001b[0m\n",
            "\u001b[?25hRequirement already satisfied: wheel in /usr/local/lib/python3.10/dist-packages (from tensorflow-decision-forests>=1.3.0->tensorflowjs) (0.40.0)\n",
            "Collecting wurlitzer (from tensorflow-decision-forests>=1.3.0->tensorflowjs)\n",
            "  Downloading wurlitzer-3.0.3-py3-none-any.whl (7.3 kB)\n",
            "Collecting keras<2.14,>=2.13.1 (from tensorflow<3,>=2.12.0->tensorflowjs)\n",
            "  Downloading keras-2.13.1-py3-none-any.whl (1.7 MB)\n",
            "\u001b[2K     \u001b[90m━━━━━━━━━━━━━━━━━━━━━━━━━━━━━━━━━━━━━━━━\u001b[0m \u001b[32m1.7/1.7 MB\u001b[0m \u001b[31m39.6 MB/s\u001b[0m eta \u001b[36m0:00:00\u001b[0m\n",
            "\u001b[?25hCollecting tensorboard<2.14,>=2.13 (from tensorflow<3,>=2.12.0->tensorflowjs)\n",
            "  Downloading tensorboard-2.13.0-py3-none-any.whl (5.6 MB)\n",
            "\u001b[2K     \u001b[90m━━━━━━━━━━━━━━━━━━━━━━━━━━━━━━━━━━━━━━━━\u001b[0m \u001b[32m5.6/5.6 MB\u001b[0m \u001b[31m41.5 MB/s\u001b[0m eta \u001b[36m0:00:00\u001b[0m\n",
            "\u001b[?25hCollecting tensorflow-estimator<2.14,>=2.13.0 (from tensorflow<3,>=2.12.0->tensorflowjs)\n",
            "  Downloading tensorflow_estimator-2.13.0-py2.py3-none-any.whl (440 kB)\n",
            "\u001b[2K     \u001b[90m━━━━━━━━━━━━━━━━━━━━━━━━━━━━━━━━━━━━━━\u001b[0m \u001b[32m440.8/440.8 kB\u001b[0m \u001b[31m24.4 MB/s\u001b[0m eta \u001b[36m0:00:00\u001b[0m\n",
            "\u001b[?25hCollecting typing-extensions>=4.1.1 (from flax<0.6.3,>=0.6.2->tensorflowjs)\n",
            "  Downloading typing_extensions-4.5.0-py3-none-any.whl (27 kB)\n",
            "Requirement already satisfied: markdown-it-py>=2.2.0 in /usr/local/lib/python3.10/dist-packages (from rich>=11.1->flax<0.6.3,>=0.6.2->tensorflowjs) (3.0.0)\n",
            "Requirement already satisfied: pygments<3.0.0,>=2.13.0 in /usr/local/lib/python3.10/dist-packages (from rich>=11.1->flax<0.6.3,>=0.6.2->tensorflowjs) (2.14.0)\n",
            "Requirement already satisfied: google-auth<3,>=1.6.3 in /usr/local/lib/python3.10/dist-packages (from tensorboard<2.14,>=2.13->tensorflow<3,>=2.12.0->tensorflowjs) (2.17.3)\n",
            "Requirement already satisfied: google-auth-oauthlib<1.1,>=0.5 in /usr/local/lib/python3.10/dist-packages (from tensorboard<2.14,>=2.13->tensorflow<3,>=2.12.0->tensorflowjs) (1.0.0)\n",
            "Requirement already satisfied: markdown>=2.6.8 in /usr/local/lib/python3.10/dist-packages (from tensorboard<2.14,>=2.13->tensorflow<3,>=2.12.0->tensorflowjs) (3.4.3)\n",
            "Requirement already satisfied: requests<3,>=2.21.0 in /usr/local/lib/python3.10/dist-packages (from tensorboard<2.14,>=2.13->tensorflow<3,>=2.12.0->tensorflowjs) (2.27.1)\n",
            "Requirement already satisfied: tensorboard-data-server<0.8.0,>=0.7.0 in /usr/local/lib/python3.10/dist-packages (from tensorboard<2.14,>=2.13->tensorflow<3,>=2.12.0->tensorflowjs) (0.7.1)\n",
            "Requirement already satisfied: werkzeug>=1.0.1 in /usr/local/lib/python3.10/dist-packages (from tensorboard<2.14,>=2.13->tensorflow<3,>=2.12.0->tensorflowjs) (2.3.6)\n",
            "Requirement already satisfied: contourpy>=1.0.1 in /usr/local/lib/python3.10/dist-packages (from matplotlib->flax<0.6.3,>=0.6.2->tensorflowjs) (1.1.0)\n",
            "Requirement already satisfied: cycler>=0.10 in /usr/local/lib/python3.10/dist-packages (from matplotlib->flax<0.6.3,>=0.6.2->tensorflowjs) (0.11.0)\n",
            "Requirement already satisfied: fonttools>=4.22.0 in /usr/local/lib/python3.10/dist-packages (from matplotlib->flax<0.6.3,>=0.6.2->tensorflowjs) (4.41.0)\n",
            "Requirement already satisfied: kiwisolver>=1.0.1 in /usr/local/lib/python3.10/dist-packages (from matplotlib->flax<0.6.3,>=0.6.2->tensorflowjs) (1.4.4)\n",
            "Requirement already satisfied: pillow>=6.2.0 in /usr/local/lib/python3.10/dist-packages (from matplotlib->flax<0.6.3,>=0.6.2->tensorflowjs) (8.4.0)\n",
            "Requirement already satisfied: python-dateutil>=2.7 in /usr/local/lib/python3.10/dist-packages (from matplotlib->flax<0.6.3,>=0.6.2->tensorflowjs) (2.8.2)\n",
            "Requirement already satisfied: chex>=0.1.5 in /usr/local/lib/python3.10/dist-packages (from optax->flax<0.6.3,>=0.6.2->tensorflowjs) (0.1.7)\n",
            "Requirement already satisfied: jaxlib>=0.1.37 in /usr/local/lib/python3.10/dist-packages (from optax->flax<0.6.3,>=0.6.2->tensorflowjs) (0.4.13+cuda11.cudnn86)\n",
            "Requirement already satisfied: pytz>=2020.1 in /usr/local/lib/python3.10/dist-packages (from pandas->tensorflow-decision-forests>=1.3.0->tensorflowjs) (2022.7.1)\n",
            "Requirement already satisfied: dm-tree>=0.1.5 in /usr/local/lib/python3.10/dist-packages (from chex>=0.1.5->optax->flax<0.6.3,>=0.6.2->tensorflowjs) (0.1.8)\n",
            "Requirement already satisfied: toolz>=0.9.0 in /usr/local/lib/python3.10/dist-packages (from chex>=0.1.5->optax->flax<0.6.3,>=0.6.2->tensorflowjs) (0.12.0)\n",
            "Requirement already satisfied: cachetools<6.0,>=2.0.0 in /usr/local/lib/python3.10/dist-packages (from google-auth<3,>=1.6.3->tensorboard<2.14,>=2.13->tensorflow<3,>=2.12.0->tensorflowjs) (5.3.1)\n",
            "Requirement already satisfied: pyasn1-modules>=0.2.1 in /usr/local/lib/python3.10/dist-packages (from google-auth<3,>=1.6.3->tensorboard<2.14,>=2.13->tensorflow<3,>=2.12.0->tensorflowjs) (0.3.0)\n",
            "Requirement already satisfied: rsa<5,>=3.1.4 in /usr/local/lib/python3.10/dist-packages (from google-auth<3,>=1.6.3->tensorboard<2.14,>=2.13->tensorflow<3,>=2.12.0->tensorflowjs) (4.9)\n",
            "Requirement already satisfied: requests-oauthlib>=0.7.0 in /usr/local/lib/python3.10/dist-packages (from google-auth-oauthlib<1.1,>=0.5->tensorboard<2.14,>=2.13->tensorflow<3,>=2.12.0->tensorflowjs) (1.3.1)\n",
            "Requirement already satisfied: mdurl~=0.1 in /usr/local/lib/python3.10/dist-packages (from markdown-it-py>=2.2.0->rich>=11.1->flax<0.6.3,>=0.6.2->tensorflowjs) (0.1.2)\n",
            "Requirement already satisfied: urllib3<1.27,>=1.21.1 in /usr/local/lib/python3.10/dist-packages (from requests<3,>=2.21.0->tensorboard<2.14,>=2.13->tensorflow<3,>=2.12.0->tensorflowjs) (1.26.16)\n",
            "Requirement already satisfied: certifi>=2017.4.17 in /usr/local/lib/python3.10/dist-packages (from requests<3,>=2.21.0->tensorboard<2.14,>=2.13->tensorflow<3,>=2.12.0->tensorflowjs) (2023.5.7)\n",
            "Requirement already satisfied: charset-normalizer~=2.0.0 in /usr/local/lib/python3.10/dist-packages (from requests<3,>=2.21.0->tensorboard<2.14,>=2.13->tensorflow<3,>=2.12.0->tensorflowjs) (2.0.12)\n",
            "Requirement already satisfied: idna<4,>=2.5 in /usr/local/lib/python3.10/dist-packages (from requests<3,>=2.21.0->tensorboard<2.14,>=2.13->tensorflow<3,>=2.12.0->tensorflowjs) (3.4)\n",
            "Requirement already satisfied: MarkupSafe>=2.1.1 in /usr/local/lib/python3.10/dist-packages (from werkzeug>=1.0.1->tensorboard<2.14,>=2.13->tensorflow<3,>=2.12.0->tensorflowjs) (2.1.3)\n",
            "Requirement already satisfied: pyasn1<0.6.0,>=0.4.6 in /usr/local/lib/python3.10/dist-packages (from pyasn1-modules>=0.2.1->google-auth<3,>=1.6.3->tensorboard<2.14,>=2.13->tensorflow<3,>=2.12.0->tensorflowjs) (0.5.0)\n",
            "Requirement already satisfied: oauthlib>=3.0.0 in /usr/local/lib/python3.10/dist-packages (from requests-oauthlib>=0.7.0->google-auth-oauthlib<1.1,>=0.5->tensorboard<2.14,>=2.13->tensorflow<3,>=2.12.0->tensorflowjs) (3.2.2)\n",
            "Installing collected packages: wurlitzer, typing-extensions, tensorflow-estimator, packaging, keras, tensorboard, tensorflow, flax, tensorflow-decision-forests, tensorflowjs\n",
            "  Attempting uninstall: typing-extensions\n",
            "    Found existing installation: typing_extensions 4.7.1\n",
            "    Uninstalling typing_extensions-4.7.1:\n",
            "      Successfully uninstalled typing_extensions-4.7.1\n",
            "  Attempting uninstall: tensorflow-estimator\n",
            "    Found existing installation: tensorflow-estimator 2.12.0\n",
            "    Uninstalling tensorflow-estimator-2.12.0:\n",
            "      Successfully uninstalled tensorflow-estimator-2.12.0\n",
            "  Attempting uninstall: packaging\n",
            "    Found existing installation: packaging 23.1\n",
            "    Uninstalling packaging-23.1:\n",
            "      Successfully uninstalled packaging-23.1\n",
            "  Attempting uninstall: keras\n",
            "    Found existing installation: keras 2.12.0\n",
            "    Uninstalling keras-2.12.0:\n",
            "      Successfully uninstalled keras-2.12.0\n",
            "  Attempting uninstall: tensorboard\n",
            "    Found existing installation: tensorboard 2.12.3\n",
            "    Uninstalling tensorboard-2.12.3:\n",
            "      Successfully uninstalled tensorboard-2.12.3\n",
            "  Attempting uninstall: tensorflow\n",
            "    Found existing installation: tensorflow 2.12.0\n",
            "    Uninstalling tensorflow-2.12.0:\n",
            "      Successfully uninstalled tensorflow-2.12.0\n",
            "  Attempting uninstall: flax\n",
            "    Found existing installation: flax 0.7.0\n",
            "    Uninstalling flax-0.7.0:\n",
            "      Successfully uninstalled flax-0.7.0\n",
            "\u001b[31mERROR: pip's dependency resolver does not currently take into account all the packages that are installed. This behaviour is the source of the following dependency conflicts.\n",
            "statsmodels 0.13.5 requires packaging>=21.3, but you have packaging 20.9 which is incompatible.\n",
            "xarray 2022.12.0 requires packaging>=21.3, but you have packaging 20.9 which is incompatible.\u001b[0m\u001b[31m\n",
            "\u001b[0mSuccessfully installed flax-0.6.2 keras-2.13.1 packaging-20.9 tensorboard-2.13.0 tensorflow-2.13.0 tensorflow-decision-forests-1.5.0 tensorflow-estimator-2.13.0 tensorflowjs-4.9.0 typing-extensions-4.5.0 wurlitzer-3.0.3\n"
          ]
        },
        {
          "output_type": "display_data",
          "data": {
            "application/vnd.colab-display-data+json": {
              "pip_warning": {
                "packages": [
                  "keras",
                  "packaging",
                  "tensorboard",
                  "tensorflow"
                ]
              }
            }
          },
          "metadata": {}
        }
      ]
    },
    {
      "cell_type": "code",
      "source": [
        "!pip install tensorrt"
      ],
      "metadata": {
        "id": "hzS1TWzBpK7m",
        "outputId": "ecdc7d53-f955-4689-b1fc-e3a2a4389ca5",
        "colab": {
          "base_uri": "https://localhost:8080/"
        }
      },
      "execution_count": 44,
      "outputs": [
        {
          "output_type": "stream",
          "name": "stdout",
          "text": [
            "Collecting tensorrt\n",
            "  Downloading tensorrt-8.6.1.tar.gz (16 kB)\n",
            "  Preparing metadata (setup.py) ... \u001b[?25l\u001b[?25hdone\n",
            "Building wheels for collected packages: tensorrt\n",
            "  Building wheel for tensorrt (setup.py) ... \u001b[?25l\u001b[?25hdone\n",
            "  Created wheel for tensorrt: filename=tensorrt-8.6.1-py2.py3-none-any.whl size=16973 sha256=f160077a87864ba98cb526a63ca7596fdadf0cde93928999ba59b22aa33632fa\n",
            "  Stored in directory: /root/.cache/pip/wheels/6d/29/56/abdffd4c604f255b5254bef3f1c598ab7811ea020540599438\n",
            "Successfully built tensorrt\n",
            "Installing collected packages: tensorrt\n",
            "Successfully installed tensorrt-8.6.1\n"
          ]
        }
      ]
    },
    {
      "cell_type": "code",
      "source": [
        "!mkdir output_folder"
      ],
      "metadata": {
        "id": "oLZh5B1QmWfk"
      },
      "execution_count": 45,
      "outputs": []
    },
    {
      "cell_type": "code",
      "source": [
        "!tensorflowjs_converter --input_format keras brain_model.h5 output_folder"
      ],
      "metadata": {
        "id": "uR8MStXembp4",
        "outputId": "a97192b1-907c-40a1-de26-e407b8981329",
        "colab": {
          "base_uri": "https://localhost:8080/"
        }
      },
      "execution_count": 46,
      "outputs": [
        {
          "output_type": "stream",
          "name": "stdout",
          "text": [
            "2023-07-31 06:33:36.054920: W tensorflow/compiler/tf2tensorrt/utils/py_utils.cc:38] TF-TRT Warning: Could not find TensorRT\n"
          ]
        }
      ]
    }
  ]
}