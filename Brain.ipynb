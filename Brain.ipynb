{
  "nbformat": 4,
  "nbformat_minor": 0,
  "metadata": {
    "colab": {
      "provenance": [],
      "mount_file_id": "1XykZiNAw-Nhp5u2mHWK-cuHh9WRDZGVn",
      "authorship_tag": "ABX9TyO4O66iQcZD3v6MDtGb7AlA",
      "include_colab_link": true
    },
    "kernelspec": {
      "name": "python3",
      "display_name": "Python 3"
    },
    "language_info": {
      "name": "python"
    }
  },
  "cells": [
    {
      "cell_type": "markdown",
      "metadata": {
        "id": "view-in-github",
        "colab_type": "text"
      },
      "source": [
        "<a href=\"https://colab.research.google.com/github/LennyRBriones/neural-networks-practices/blob/main/Brain.ipynb\" target=\"_parent\"><img src=\"https://colab.research.google.com/assets/colab-badge.svg\" alt=\"Open In Colab\"/></a>"
      ]
    },
    {
      "cell_type": "markdown",
      "source": [
        "## Libraries"
      ],
      "metadata": {
        "id": "Kd06-CcRnErO"
      }
    },
    {
      "cell_type": "code",
      "execution_count": 1,
      "metadata": {
        "id": "ltJNbSWUlIoP"
      },
      "outputs": [],
      "source": [
        "import os\n",
        "import zipfile\n",
        "\n",
        "local_zip =\"/content/drive/MyDrive/brain_class.zip\"\n",
        "zip_ref = zipfile.ZipFile(local_zip,\"r\")\n",
        "zip_ref.extractall(\"content/drive/MyDrive/brain_class\")\n",
        "zip_ref.close()"
      ]
    },
    {
      "cell_type": "code",
      "source": [
        "import numpy as np\n",
        "%matplotlib inline\n",
        "import matplotlib.pyplot as plt\n",
        "import matplotlib.image as mpimg\n",
        "import string\n",
        "import tensorflow as tf\n",
        "from tensorflow.keras.preprocessing.image import ImageDataGenerator"
      ],
      "metadata": {
        "id": "IPAgEv9XmHAg"
      },
      "execution_count": 2,
      "outputs": []
    },
    {
      "cell_type": "code",
      "source": [
        "train_dir = \"content/drive/MyDrive/brain_class/Training\"\n",
        "test_dir = \"content/drive/MyDrive/brain_class/Testing\""
      ],
      "metadata": {
        "id": "1U8kcxQsmyWV"
      },
      "execution_count": 3,
      "outputs": []
    },
    {
      "cell_type": "markdown",
      "source": [
        "## Data Generators"
      ],
      "metadata": {
        "id": "mmzym1NEnDoD"
      }
    },
    {
      "cell_type": "code",
      "source": [
        "train_datagen = ImageDataGenerator(rescale = 1/255)\n",
        "test_datagen = ImageDataGenerator(rescale = 1/255, validation_split = 0.2) # splitting in 20% to validate performance"
      ],
      "metadata": {
        "id": "HWVjkcY7mp0i"
      },
      "execution_count": 4,
      "outputs": []
    },
    {
      "cell_type": "code",
      "source": [
        "from tensorflow.python import test\n",
        "train_generator = train_datagen.flow_from_directory(\n",
        "    train_dir,\n",
        "    target_size = (32, 32),\n",
        "    batch_size = 12,\n",
        "    class_mode = \"categorical\",\n",
        "    color_mode = \"grayscale\",\n",
        "    subset =\"training\"\n",
        ")\n",
        "\n",
        "validation_generator = test_datagen.flow_from_directory(\n",
        "    test_dir,\n",
        "    target_size = (32, 32),\n",
        "    batch_size = 12,\n",
        "    class_mode = \"categorical\",\n",
        "    color_mode = \"grayscale\",\n",
        "    subset = \"validation\"\n",
        ")\n",
        "\n",
        "test_generator = test_datagen.flow_from_directory(\n",
        "    test_dir,\n",
        "    target_size = (32, 32),\n",
        "    batch_size = 12,\n",
        "    class_mode = \"categorical\",\n",
        "    color_mode = \"grayscale\",\n",
        ")"
      ],
      "metadata": {
        "colab": {
          "base_uri": "https://localhost:8080/"
        },
        "id": "SHnJSOQ_nvwl",
        "outputId": "9bbdde08-e643-43ba-b231-3e67fc4e4764"
      },
      "execution_count": 5,
      "outputs": [
        {
          "output_type": "stream",
          "name": "stdout",
          "text": [
            "Found 5712 images belonging to 4 classes.\n",
            "Found 262 images belonging to 4 classes.\n",
            "Found 1311 images belonging to 4 classes.\n"
          ]
        }
      ]
    },
    {
      "cell_type": "code",
      "source": [
        "classes = [\"glioma\", \"meningioma\", \"notumor\", \"pituitary\"]"
      ],
      "metadata": {
        "id": "dGhovmCAtQqa"
      },
      "execution_count": 6,
      "outputs": []
    },
    {
      "cell_type": "code",
      "source": [
        "classes"
      ],
      "metadata": {
        "colab": {
          "base_uri": "https://localhost:8080/"
        },
        "id": "EhbkCqZutzWD",
        "outputId": "b6defd44-51a5-4bb8-a959-ab11697fe4ab"
      },
      "execution_count": 7,
      "outputs": [
        {
          "output_type": "execute_result",
          "data": {
            "text/plain": [
              "['glioma', 'meningioma', 'notumor', 'pituitary']"
            ]
          },
          "metadata": {},
          "execution_count": 7
        }
      ]
    },
    {
      "cell_type": "code",
      "source": [
        "def plotimages(images_arr):\n",
        "  fig, axes = plt.subplots(1, 5, figsize = (15,15))\n",
        "  axes = axes.flatten()\n",
        "  for img, ax in zip(images_arr, axes):\n",
        "    ax.imshow(img[:,:,0])\n",
        "    ax.axis(\"off\")\n",
        "  plt.tight_layout()\n",
        "  plt.show()"
      ],
      "metadata": {
        "id": "H-fTNXXDt0Pf"
      },
      "execution_count": 8,
      "outputs": []
    },
    {
      "cell_type": "code",
      "source": [
        "sample_training_images, _ = next(train_generator)\n",
        "plotimages(sample_training_images[5:10])"
      ],
      "metadata": {
        "colab": {
          "base_uri": "https://localhost:8080/",
          "height": 242
        },
        "id": "KHklUF-guQbp",
        "outputId": "00ac212c-eb3d-4eb0-c0e7-844982ef159b"
      },
      "execution_count": 9,
      "outputs": [
        {
          "output_type": "display_data",
          "data": {
            "text/plain": [
              "<Figure size 1500x1500 with 5 Axes>"
            ],
            "image/png": "[encoded data removed]"
          },
          "metadata": {}
        }
      ]
    },
    {
      "cell_type": "markdown",
      "source": [
        "## Keras Tuner"
      ],
      "metadata": {
        "id": "mrjnb3hwzxRe"
      }
    },
    {
      "cell_type": "code",
      "source": [
        "from tensorflow.keras import regularizers"
      ],
      "metadata": {
        "id": "Jx4TqY0T05LX"
      },
      "execution_count": 10,
      "outputs": []
    },
    {
      "cell_type": "code",
      "source": [
        "! pip install -q -U keras-tuner\n",
        "import keras_tuner as kt\n",
        "from tensorflow import keras"
      ],
      "metadata": {
        "colab": {
          "base_uri": "https://localhost:8080/"
        },
        "id": "NBnvREUMuc-b",
        "outputId": "ed1d7679-450b-4f73-9c5f-2407c50f187f"
      },
      "execution_count": 11,
      "outputs": [
        {
          "output_type": "stream",
          "name": "stdout",
          "text": [
            "\u001b[?25l     \u001b[90m━━━━━━━━━━━━━━━━━━━━━━━━━━━━━━━━━━━━━━━━\u001b[0m \u001b[32m0.0/176.1 kB\u001b[0m \u001b[31m?\u001b[0m eta \u001b[36m-:--:--\u001b[0m\r\u001b[2K     \u001b[90m━━━━━━━━━━━━━━━━━━━━━━━━━━━━━━━━━━━━━━━\u001b[0m \u001b[32m176.1/176.1 kB\u001b[0m \u001b[31m6.5 MB/s\u001b[0m eta \u001b[36m0:00:00\u001b[0m\n",
            "\u001b[?25h"
          ]
        }
      ]
    },
    {
      "cell_type": "code",
      "source": [
        "def model_constructor(hp):\n",
        "  model = tf.keras.models.Sequential()\n",
        "  model.add(tf.keras.layers.Conv2D(20, (3,3), activation =\"relu\", input_shape = (32,32, 1)))\n",
        "  model.add(tf.keras.layers.MaxPool2D((2,2)))\n",
        "  model.add(tf.keras.layers.Flatten())\n",
        "\n",
        "  #Dynamic generator of neurons\n",
        "  hp_units = hp.Int(\"units\", min_value = 10, max_value = 80, step = 10)\n",
        "  model.add(tf.keras.layers.Dense(units = hp_units, activation = \"relu\", kernel_regularizer = regularizers.l2(1e-5)))\n",
        "  model.add(tf.keras.layers.Dropout(0.2))\n",
        "  model.add(tf.keras.layers.Dense(10, activation = \"relu\", kernel_regularizer= regularizers.l2(1e-5)))\n",
        "  model.add(tf.keras.layers.Dropout(0.2))\n",
        "  model.add(tf.keras.layers.Dense(len(classes), activation = \"softmax\" ))\n",
        "\n",
        "  hp_learning_rate = hp.Choice(\"learning_rate\", values = [1e-2, 1e-3, 1e-4])\n",
        "\n",
        "  model.compile(optimizer = keras.optimizers.Adam(learning_rate= hp_learning_rate), loss = \"categorical_crossentropy\", metrics = [\"accuracy\"])\n",
        "\n",
        "  return model"
      ],
      "metadata": {
        "id": "69jIj4AX0BH6"
      },
      "execution_count": 12,
      "outputs": []
    },
    {
      "cell_type": "code",
      "source": [
        "tuner = kt.Hyperband(\n",
        "    model_constructor,\n",
        "    objective = \"val_accuracy\", #to see generalization in new data\n",
        "    max_epochs=12,\n",
        "    factor = 3,\n",
        "    directory = \"models/\",\n",
        "    project_name = \"brain-lenn-tunner\"\n",
        ")"
      ],
      "metadata": {
        "id": "dIieFIdp0-mj"
      },
      "execution_count": 13,
      "outputs": []
    },
    {
      "cell_type": "code",
      "source": [
        "tuner.search(train_generator, epochs = 12, validation_data = validation_generator)\n",
        "\n",
        "best_hps = tuner.get_best_hyperparameters(num_trials = 1)[0]\n",
        "                                          #trials help us to re-test the result"
      ],
      "metadata": {
        "colab": {
          "base_uri": "https://localhost:8080/"
        },
        "id": "kfwnDFlx1QMh",
        "outputId": "3035ac40-88d9-41c0-990c-b8772cde90e4"
      },
      "execution_count": 14,
      "outputs": [
        {
          "output_type": "stream",
          "name": "stdout",
          "text": [
            "Trial 30 Complete [00h 07m 35s]\n",
            "val_accuracy: 0.3091602921485901\n",
            "\n",
            "Best val_accuracy So Far: 0.9351145029067993\n",
            "Total elapsed time: 01h 20m 41s\n"
          ]
        }
      ]
    },
    {
      "cell_type": "code",
      "source": [
        "print(best_hps.get(\"units\")) #to get the best configuration of neurons"
      ],
      "metadata": {
        "id": "6atExCmO1c43",
        "colab": {
          "base_uri": "https://localhost:8080/"
        },
        "outputId": "182585ba-4cee-44e6-c090-3e56927afb9c"
      },
      "execution_count": 15,
      "outputs": [
        {
          "output_type": "stream",
          "name": "stdout",
          "text": [
            "40\n"
          ]
        }
      ]
    },
    {
      "cell_type": "code",
      "source": [
        "print(best_hps.get(\"learning_rate\")) #to get the best configuration of learning rate"
      ],
      "metadata": {
        "id": "YdKFIJly1g3r",
        "colab": {
          "base_uri": "https://localhost:8080/"
        },
        "outputId": "b91058d9-fe53-4a59-8187-bda6cad905c1"
      },
      "execution_count": 16,
      "outputs": [
        {
          "output_type": "stream",
          "name": "stdout",
          "text": [
            "0.001\n"
          ]
        }
      ]
    },
    {
      "cell_type": "code",
      "source": [
        "callback_early = tf.keras.callbacks.EarlyStopping(monitor = \"loss\", patience = 3, mode = \"auto\") #it could be min or max depends of the metric"
      ],
      "metadata": {
        "id": "pdaLSa9HaScM"
      },
      "execution_count": 17,
      "outputs": []
    },
    {
      "cell_type": "code",
      "source": [
        "hypermodel = tuner.hypermodel.build(best_hps)\n",
        "\n",
        "history_hypermodel = hypermodel.fit(\n",
        "    train_generator,\n",
        "    epochs = 12,\n",
        "    callbacks = [callback_early],\n",
        "    validation_data = validation_generator\n",
        ")"
      ],
      "metadata": {
        "id": "cleAzn-nuOqx",
        "colab": {
          "base_uri": "https://localhost:8080/"
        },
        "outputId": "f0c43b69-fec9-4f58-a646-77319b6353c3"
      },
      "execution_count": 18,
      "outputs": [
        {
          "output_type": "stream",
          "name": "stdout",
          "text": [
            "Epoch 1/12\n",
            "476/476 [==============================] - 39s 79ms/step - loss: 0.9931 - accuracy: 0.5611 - val_loss: 1.0747 - val_accuracy: 0.5840\n",
            "Epoch 2/12\n",
            "476/476 [==============================] - 25s 52ms/step - loss: 0.6713 - accuracy: 0.7344 - val_loss: 0.8764 - val_accuracy: 0.6679\n",
            "Epoch 3/12\n",
            "476/476 [==============================] - 21s 45ms/step - loss: 0.5954 - accuracy: 0.7586 - val_loss: 0.9035 - val_accuracy: 0.6450\n",
            "Epoch 4/12\n",
            "476/476 [==============================] - 24s 51ms/step - loss: 0.5255 - accuracy: 0.8051 - val_loss: 0.6498 - val_accuracy: 0.7176\n",
            "Epoch 5/12\n",
            "476/476 [==============================] - 22s 45ms/step - loss: 0.4561 - accuracy: 0.8316 - val_loss: 0.5730 - val_accuracy: 0.7557\n",
            "Epoch 6/12\n",
            "476/476 [==============================] - 23s 48ms/step - loss: 0.4231 - accuracy: 0.8465 - val_loss: 0.5589 - val_accuracy: 0.7748\n",
            "Epoch 7/12\n",
            "476/476 [==============================] - 22s 47ms/step - loss: 0.3865 - accuracy: 0.8568 - val_loss: 0.6348 - val_accuracy: 0.7405\n",
            "Epoch 8/12\n",
            "476/476 [==============================] - 23s 48ms/step - loss: 0.3520 - accuracy: 0.8750 - val_loss: 0.5884 - val_accuracy: 0.7214\n",
            "Epoch 9/12\n",
            "476/476 [==============================] - 24s 50ms/step - loss: 0.3342 - accuracy: 0.8796 - val_loss: 0.4213 - val_accuracy: 0.8244\n",
            "Epoch 10/12\n",
            "476/476 [==============================] - 24s 51ms/step - loss: 0.3076 - accuracy: 0.8867 - val_loss: 0.4370 - val_accuracy: 0.8206\n",
            "Epoch 11/12\n",
            "476/476 [==============================] - 24s 51ms/step - loss: 0.2863 - accuracy: 0.9004 - val_loss: 0.3605 - val_accuracy: 0.8626\n",
            "Epoch 12/12\n",
            "476/476 [==============================] - 25s 52ms/step - loss: 0.2592 - accuracy: 0.9091 - val_loss: 0.3672 - val_accuracy: 0.8817\n"
          ]
        }
      ]
    },
    {
      "cell_type": "code",
      "source": [
        "# to save the config of the model\n",
        "config_dict = hypermodel.get_config()"
      ],
      "metadata": {
        "id": "u1cHtNYEmsFm"
      },
      "execution_count": 19,
      "outputs": []
    },
    {
      "cell_type": "code",
      "source": [
        "print(config_dict)"
      ],
      "metadata": {
        "colab": {
          "base_uri": "https://localhost:8080/"
        },
        "id": "WyVG0tMomvvr",
        "outputId": "9f5ccc64-0222-4024-8fb0-f09a00f60d22"
      },
      "execution_count": 20,
      "outputs": [
        {
          "output_type": "stream",
          "name": "stdout",
          "text": [
            "{'name': 'sequential_1', 'layers': [{'class_name': 'InputLayer', 'config': {'batch_input_shape': (None, 32, 32, 1), 'dtype': 'float32', 'sparse': False, 'ragged': False, 'name': 'conv2d_1_input'}}, {'class_name': 'Conv2D', 'config': {'name': 'conv2d_1', 'trainable': True, 'dtype': 'float32', 'batch_input_shape': (None, 32, 32, 1), 'filters': 20, 'kernel_size': (3, 3), 'strides': (1, 1), 'padding': 'valid', 'data_format': 'channels_last', 'dilation_rate': (1, 1), 'groups': 1, 'activation': 'relu', 'use_bias': True, 'kernel_initializer': {'class_name': 'GlorotUniform', 'config': {'seed': None}}, 'bias_initializer': {'class_name': 'Zeros', 'config': {}}, 'kernel_regularizer': None, 'bias_regularizer': None, 'activity_regularizer': None, 'kernel_constraint': None, 'bias_constraint': None}}, {'class_name': 'MaxPooling2D', 'config': {'name': 'max_pooling2d_1', 'trainable': True, 'dtype': 'float32', 'pool_size': (2, 2), 'padding': 'valid', 'strides': (2, 2), 'data_format': 'channels_last'}}, {'class_name': 'Flatten', 'config': {'name': 'flatten_1', 'trainable': True, 'dtype': 'float32', 'data_format': 'channels_last'}}, {'class_name': 'Dense', 'config': {'name': 'dense_3', 'trainable': True, 'dtype': 'float32', 'units': 40, 'activation': 'relu', 'use_bias': True, 'kernel_initializer': {'class_name': 'GlorotUniform', 'config': {'seed': None}}, 'bias_initializer': {'class_name': 'Zeros', 'config': {}}, 'kernel_regularizer': {'class_name': 'L2', 'config': {'l2': 9.999999747378752e-06}}, 'bias_regularizer': None, 'activity_regularizer': None, 'kernel_constraint': None, 'bias_constraint': None}}, {'class_name': 'Dropout', 'config': {'name': 'dropout_2', 'trainable': True, 'dtype': 'float32', 'rate': 0.2, 'noise_shape': None, 'seed': None}}, {'class_name': 'Dense', 'config': {'name': 'dense_4', 'trainable': True, 'dtype': 'float32', 'units': 10, 'activation': 'relu', 'use_bias': True, 'kernel_initializer': {'class_name': 'GlorotUniform', 'config': {'seed': None}}, 'bias_initializer': {'class_name': 'Zeros', 'config': {}}, 'kernel_regularizer': {'class_name': 'L2', 'config': {'l2': 9.999999747378752e-06}}, 'bias_regularizer': None, 'activity_regularizer': None, 'kernel_constraint': None, 'bias_constraint': None}}, {'class_name': 'Dropout', 'config': {'name': 'dropout_3', 'trainable': True, 'dtype': 'float32', 'rate': 0.2, 'noise_shape': None, 'seed': None}}, {'class_name': 'Dense', 'config': {'name': 'dense_5', 'trainable': True, 'dtype': 'float32', 'units': 4, 'activation': 'softmax', 'use_bias': True, 'kernel_initializer': {'class_name': 'GlorotUniform', 'config': {'seed': None}}, 'bias_initializer': {'class_name': 'Zeros', 'config': {}}, 'kernel_regularizer': None, 'bias_regularizer': None, 'activity_regularizer': None, 'kernel_constraint': None, 'bias_constraint': None}}]}\n"
          ]
        }
      ]
    },
    {
      "cell_type": "code",
      "source": [
        "model_same_config = tf.keras.Sequential.from_config(config_dict)"
      ],
      "metadata": {
        "id": "VPBcoJTOm0yl"
      },
      "execution_count": 21,
      "outputs": []
    },
    {
      "cell_type": "code",
      "source": [
        "model_same_config.summary()"
      ],
      "metadata": {
        "colab": {
          "base_uri": "https://localhost:8080/"
        },
        "id": "Y2UzQVFDm7iQ",
        "outputId": "c2c19221-ada6-4b9e-fe04-b04d9575800e"
      },
      "execution_count": 22,
      "outputs": [
        {
          "output_type": "stream",
          "name": "stdout",
          "text": [
            "Model: \"sequential_1\"\n",
            "_________________________________________________________________\n",
            " Layer (type)                Output Shape              Param #   \n",
            "=================================================================\n",
            " conv2d_1 (Conv2D)           (None, 30, 30, 20)        200       \n",
            "                                                                 \n",
            " max_pooling2d_1 (MaxPooling  (None, 15, 15, 20)       0         \n",
            " 2D)                                                             \n",
            "                                                                 \n",
            " flatten_1 (Flatten)         (None, 4500)              0         \n",
            "                                                                 \n",
            " dense_3 (Dense)             (None, 40)                180040    \n",
            "                                                                 \n",
            " dropout_2 (Dropout)         (None, 40)                0         \n",
            "                                                                 \n",
            " dense_4 (Dense)             (None, 10)                410       \n",
            "                                                                 \n",
            " dropout_3 (Dropout)         (None, 10)                0         \n",
            "                                                                 \n",
            " dense_5 (Dense)             (None, 4)                 44        \n",
            "                                                                 \n",
            "=================================================================\n",
            "Total params: 180,694\n",
            "Trainable params: 180,694\n",
            "Non-trainable params: 0\n",
            "_________________________________________________________________\n"
          ]
        }
      ]
    },
    {
      "cell_type": "code",
      "source": [
        "from tensorflow.keras.callbacks import ModelCheckpoint"
      ],
      "metadata": {
        "id": "aPurqU3knER5"
      },
      "execution_count": 23,
      "outputs": []
    },
    {
      "cell_type": "code",
      "source": [
        "def get_model():\n",
        "   model = tf.keras.models.Sequential([\n",
        "             tf.keras.layers.Conv2D(20, (3,3), activation = \"relu\", input_shape = (32, 32,1)),\n",
        "             tf.keras.layers.MaxPool2D((2,2)),\n",
        "             tf.keras.layers.Flatten(),\n",
        "             tf.keras.layers.Dense(40, kernel_regularizer= regularizers.l2(0.001), activation = \"relu\"),\n",
        "             tf.keras.layers.Dropout(0.2),\n",
        "             tf.keras.layers.Dense(10, kernel_regularizer= regularizers.l2(0.001), activation = \"relu\"),\n",
        "             tf.keras.layers.Dropout(0.2),\n",
        "             tf.keras.layers.Dense(len(classes), activation =\"softmax\")\n",
        "   ])\n",
        "   return model\n",
        "\n",
        "model_early =  get_model()\n",
        "model_early.summary()\n",
        "\n",
        "model_early.compile(optimizer= \"adam\", loss = \"categorical_crossentropy\", metrics = [\"accuracy\"])"
      ],
      "metadata": {
        "colab": {
          "base_uri": "https://localhost:8080/"
        },
        "id": "rm18KpSrc4Ev",
        "outputId": "62116486-84f3-4b56-e6c1-8a14f23b8277"
      },
      "execution_count": 24,
      "outputs": [
        {
          "output_type": "stream",
          "name": "stdout",
          "text": [
            "Model: \"sequential_2\"\n",
            "_________________________________________________________________\n",
            " Layer (type)                Output Shape              Param #   \n",
            "=================================================================\n",
            " conv2d_2 (Conv2D)           (None, 30, 30, 20)        200       \n",
            "                                                                 \n",
            " max_pooling2d_2 (MaxPooling  (None, 15, 15, 20)       0         \n",
            " 2D)                                                             \n",
            "                                                                 \n",
            " flatten_2 (Flatten)         (None, 4500)              0         \n",
            "                                                                 \n",
            " dense_6 (Dense)             (None, 40)                180040    \n",
            "                                                                 \n",
            " dropout_4 (Dropout)         (None, 40)                0         \n",
            "                                                                 \n",
            " dense_7 (Dense)             (None, 10)                410       \n",
            "                                                                 \n",
            " dropout_5 (Dropout)         (None, 10)                0         \n",
            "                                                                 \n",
            " dense_8 (Dense)             (None, 4)                 44        \n",
            "                                                                 \n",
            "=================================================================\n",
            "Total params: 180,694\n",
            "Trainable params: 180,694\n",
            "Non-trainable params: 0\n",
            "_________________________________________________________________\n"
          ]
        }
      ]
    },
    {
      "cell_type": "code",
      "source": [
        "model_weight = get_model()\n",
        "model_weight.summary()"
      ],
      "metadata": {
        "id": "cU8GeIW3nIiD",
        "outputId": "13bba8cb-869e-442a-a610-60d0374a3111",
        "colab": {
          "base_uri": "https://localhost:8080/"
        }
      },
      "execution_count": 25,
      "outputs": [
        {
          "output_type": "stream",
          "name": "stdout",
          "text": [
            "Model: \"sequential_3\"\n",
            "_________________________________________________________________\n",
            " Layer (type)                Output Shape              Param #   \n",
            "=================================================================\n",
            " conv2d_3 (Conv2D)           (None, 30, 30, 20)        200       \n",
            "                                                                 \n",
            " max_pooling2d_3 (MaxPooling  (None, 15, 15, 20)       0         \n",
            " 2D)                                                             \n",
            "                                                                 \n",
            " flatten_3 (Flatten)         (None, 4500)              0         \n",
            "                                                                 \n",
            " dense_9 (Dense)             (None, 40)                180040    \n",
            "                                                                 \n",
            " dropout_6 (Dropout)         (None, 40)                0         \n",
            "                                                                 \n",
            " dense_10 (Dense)            (None, 10)                410       \n",
            "                                                                 \n",
            " dropout_7 (Dropout)         (None, 10)                0         \n",
            "                                                                 \n",
            " dense_11 (Dense)            (None, 4)                 44        \n",
            "                                                                 \n",
            "=================================================================\n",
            "Total params: 180,694\n",
            "Trainable params: 180,694\n",
            "Non-trainable params: 0\n",
            "_________________________________________________________________\n"
          ]
        }
      ]
    },
    {
      "cell_type": "code",
      "source": [
        "model_weight.compile(optimizer = \"adam\", loss = \"categorical_crossentropy\", metrics = [\"accuracy\"])"
      ],
      "metadata": {
        "id": "EHpxUan8fHEK"
      },
      "execution_count": 26,
      "outputs": []
    },
    {
      "cell_type": "code",
      "source": [
        "checkpoint_path = \"model_checkpoints/checkpoint\"\n",
        "checkpoint_weights = ModelCheckpoint(\n",
        "    filepath = checkpoint_path,\n",
        "    frecuency = \"epoch\",\n",
        "    save_weights_only = True,\n",
        "    verbose = 1 #show us information during training\n",
        ")"
      ],
      "metadata": {
        "id": "wRqw04lvfJJW"
      },
      "execution_count": 27,
      "outputs": []
    },
    {
      "cell_type": "code",
      "source": [
        "history_weigth = model_weight.fit(\n",
        "    train_generator,\n",
        "    epochs = 20,\n",
        "    callbacks = [checkpoint_weights],\n",
        "    validation_data = validation_generator\n",
        ")"
      ],
      "metadata": {
        "colab": {
          "base_uri": "https://localhost:8080/"
        },
        "id": "vjsKOB9cfM1W",
        "outputId": "0fe486bf-9f23-4912-b5af-f16d2e67e1dd"
      },
      "execution_count": 42,
      "outputs": [
        {
          "output_type": "stream",
          "name": "stdout",
          "text": [
            "Epoch 1/20\n",
            "476/476 [==============================] - ETA: 0s - loss: 0.4131 - accuracy: 0.8948\n",
            "Epoch 1: val_accuracy did not improve from 0.88550\n",
            "476/476 [==============================] - 30s 63ms/step - loss: 0.4131 - accuracy: 0.8948 - val_loss: 0.5106 - val_accuracy: 0.8626\n",
            "Epoch 2/20\n",
            "475/476 [============================>.] - ETA: 0s - loss: 0.3997 - accuracy: 0.8984\n",
            "Epoch 2: val_accuracy improved from 0.88550 to 0.88931, saving model to model_checkpoints_complete\n"
          ]
        },
        {
          "output_type": "stream",
          "name": "stderr",
          "text": [
            "WARNING:absl:Found untraced functions such as _jit_compiled_convolution_op, _update_step_xla while saving (showing 2 of 2). These functions will not be directly callable after loading.\n"
          ]
        },
        {
          "output_type": "stream",
          "name": "stdout",
          "text": [
            "\b\b\b\b\b\b\b\b\b\b\b\b\b\b\b\b\b\b\b\b\b\b\b\b\b\b\b\b\b\b\b\b\b\b\b\b\b\b\b\b\b\b\b\b\b\b\b\b\b\b\b\b\b\b\b\b\b\b\b\b\b\b\b\b\b\b\b\b\b\b\b\b\b\b\b\b\b\b\b\b\b\b\b\b\r476/476 [==============================] - 25s 52ms/step - loss: 0.3993 - accuracy: 0.8986 - val_loss: 0.4696 - val_accuracy: 0.8893\n",
            "Epoch 3/20\n",
            "476/476 [==============================] - ETA: 0s - loss: 0.3959 - accuracy: 0.9035\n",
            "Epoch 3: val_accuracy did not improve from 0.88931\n",
            "476/476 [==============================] - 27s 57ms/step - loss: 0.3959 - accuracy: 0.9035 - val_loss: 0.4477 - val_accuracy: 0.8626\n",
            "Epoch 4/20\n",
            "475/476 [============================>.] - ETA: 0s - loss: 0.3669 - accuracy: 0.9111\n",
            "Epoch 4: val_accuracy did not improve from 0.88931\n",
            "476/476 [==============================] - 22s 46ms/step - loss: 0.3667 - accuracy: 0.9111 - val_loss: 0.4514 - val_accuracy: 0.8855\n",
            "Epoch 5/20\n",
            "476/476 [==============================] - ETA: 0s - loss: 0.3710 - accuracy: 0.9111\n",
            "Epoch 5: val_accuracy did not improve from 0.88931\n",
            "476/476 [==============================] - 22s 46ms/step - loss: 0.3710 - accuracy: 0.9111 - val_loss: 0.4477 - val_accuracy: 0.8817\n",
            "Epoch 6/20\n",
            "476/476 [==============================] - ETA: 0s - loss: 0.3757 - accuracy: 0.9119\n",
            "Epoch 6: val_accuracy improved from 0.88931 to 0.89313, saving model to model_checkpoints_complete\n"
          ]
        },
        {
          "output_type": "stream",
          "name": "stderr",
          "text": [
            "WARNING:absl:Found untraced functions such as _jit_compiled_convolution_op, _update_step_xla while saving (showing 2 of 2). These functions will not be directly callable after loading.\n"
          ]
        },
        {
          "output_type": "stream",
          "name": "stdout",
          "text": [
            "\b\b\b\b\b\b\b\b\b\b\b\b\b\b\b\b\b\b\b\b\b\b\b\b\b\b\b\b\b\b\b\b\b\b\b\b\b\b\b\b\b\b\b\b\b\b\b\b\b\b\b\b\b\b\b\b\b\b\b\b\b\b\b\b\b\b\b\b\b\b\b\b\b\b\b\b\b\b\b\b\b\b\b\b\r476/476 [==============================] - 26s 55ms/step - loss: 0.3757 - accuracy: 0.9119 - val_loss: 0.4569 - val_accuracy: 0.8931\n",
            "Epoch 7/20\n",
            "476/476 [==============================] - ETA: 0s - loss: 0.3710 - accuracy: 0.9107\n",
            "Epoch 7: val_accuracy improved from 0.89313 to 0.92748, saving model to model_checkpoints_complete\n"
          ]
        },
        {
          "output_type": "stream",
          "name": "stderr",
          "text": [
            "WARNING:absl:Found untraced functions such as _jit_compiled_convolution_op, _update_step_xla while saving (showing 2 of 2). These functions will not be directly callable after loading.\n"
          ]
        },
        {
          "output_type": "stream",
          "name": "stdout",
          "text": [
            "\b\b\b\b\b\b\b\b\b\b\b\b\b\b\b\b\b\b\b\b\b\b\b\b\b\b\b\b\b\b\b\b\b\b\b\b\b\b\b\b\b\b\b\b\b\b\b\b\b\b\b\b\b\b\b\b\b\b\b\b\b\b\b\b\b\b\b\b\b\b\b\b\b\b\b\b\b\b\b\b\b\b\b\b\r476/476 [==============================] - 22s 47ms/step - loss: 0.3710 - accuracy: 0.9107 - val_loss: 0.3592 - val_accuracy: 0.9275\n",
            "Epoch 8/20\n",
            "475/476 [============================>.] - ETA: 0s - loss: 0.3564 - accuracy: 0.9207\n",
            "Epoch 8: val_accuracy improved from 0.92748 to 0.93893, saving model to model_checkpoints_complete\n"
          ]
        },
        {
          "output_type": "stream",
          "name": "stderr",
          "text": [
            "WARNING:absl:Found untraced functions such as _jit_compiled_convolution_op, _update_step_xla while saving (showing 2 of 2). These functions will not be directly callable after loading.\n"
          ]
        },
        {
          "output_type": "stream",
          "name": "stdout",
          "text": [
            "\b\b\b\b\b\b\b\b\b\b\b\b\b\b\b\b\b\b\b\b\b\b\b\b\b\b\b\b\b\b\b\b\b\b\b\b\b\b\b\b\b\b\b\b\b\b\b\b\b\b\b\b\b\b\b\b\b\b\b\b\b\b\b\b\b\b\b\b\b\b\b\b\b\b\b\b\b\b\b\b\b\b\b\b\r476/476 [==============================] - 25s 53ms/step - loss: 0.3568 - accuracy: 0.9207 - val_loss: 0.3489 - val_accuracy: 0.9389\n",
            "Epoch 9/20\n",
            "476/476 [==============================] - ETA: 0s - loss: 0.3474 - accuracy: 0.9219\n",
            "Epoch 9: val_accuracy did not improve from 0.93893\n",
            "476/476 [==============================] - 23s 49ms/step - loss: 0.3474 - accuracy: 0.9219 - val_loss: 0.5379 - val_accuracy: 0.8511\n",
            "Epoch 10/20\n",
            "476/476 [==============================] - ETA: 0s - loss: 0.3377 - accuracy: 0.9261\n",
            "Epoch 10: val_accuracy did not improve from 0.93893\n",
            "476/476 [==============================] - 22s 46ms/step - loss: 0.3377 - accuracy: 0.9261 - val_loss: 0.3427 - val_accuracy: 0.9237\n",
            "Epoch 11/20\n",
            "476/476 [==============================] - ETA: 0s - loss: 0.3532 - accuracy: 0.9207\n",
            "Epoch 11: val_accuracy did not improve from 0.93893\n",
            "476/476 [==============================] - 22s 46ms/step - loss: 0.3532 - accuracy: 0.9207 - val_loss: 0.4172 - val_accuracy: 0.9046\n",
            "Epoch 12/20\n",
            "476/476 [==============================] - ETA: 0s - loss: 0.3395 - accuracy: 0.9286\n",
            "Epoch 12: val_accuracy did not improve from 0.93893\n",
            "476/476 [==============================] - 24s 50ms/step - loss: 0.3395 - accuracy: 0.9286 - val_loss: 0.4373 - val_accuracy: 0.8855\n",
            "Epoch 13/20\n",
            "476/476 [==============================] - ETA: 0s - loss: 0.3273 - accuracy: 0.9300\n",
            "Epoch 13: val_accuracy did not improve from 0.93893\n",
            "476/476 [==============================] - 23s 48ms/step - loss: 0.3273 - accuracy: 0.9300 - val_loss: 0.4179 - val_accuracy: 0.9198\n",
            "Epoch 14/20\n",
            "475/476 [============================>.] - ETA: 0s - loss: 0.3102 - accuracy: 0.9361\n",
            "Epoch 14: val_accuracy did not improve from 0.93893\n",
            "476/476 [==============================] - 24s 50ms/step - loss: 0.3108 - accuracy: 0.9359 - val_loss: 0.4464 - val_accuracy: 0.9084\n",
            "Epoch 15/20\n",
            "476/476 [==============================] - ETA: 0s - loss: 0.3395 - accuracy: 0.9282\n",
            "Epoch 15: val_accuracy did not improve from 0.93893\n",
            "476/476 [==============================] - 22s 46ms/step - loss: 0.3395 - accuracy: 0.9282 - val_loss: 0.4710 - val_accuracy: 0.9084\n",
            "Epoch 16/20\n",
            "476/476 [==============================] - ETA: 0s - loss: 0.3183 - accuracy: 0.9371\n",
            "Epoch 16: val_accuracy did not improve from 0.93893\n",
            "476/476 [==============================] - 22s 46ms/step - loss: 0.3183 - accuracy: 0.9371 - val_loss: 0.3743 - val_accuracy: 0.9160\n",
            "Epoch 17/20\n",
            "476/476 [==============================] - ETA: 0s - loss: 0.3135 - accuracy: 0.9308\n",
            "Epoch 17: val_accuracy did not improve from 0.93893\n",
            "476/476 [==============================] - 22s 46ms/step - loss: 0.3135 - accuracy: 0.9308 - val_loss: 0.3652 - val_accuracy: 0.9389\n",
            "Epoch 18/20\n",
            "476/476 [==============================] - ETA: 0s - loss: 0.3169 - accuracy: 0.9347\n",
            "Epoch 18: val_accuracy did not improve from 0.93893\n",
            "476/476 [==============================] - 22s 46ms/step - loss: 0.3169 - accuracy: 0.9347 - val_loss: 0.4523 - val_accuracy: 0.8969\n",
            "Epoch 19/20\n",
            "475/476 [============================>.] - ETA: 0s - loss: 0.3193 - accuracy: 0.9325\n",
            "Epoch 19: val_accuracy did not improve from 0.93893\n",
            "476/476 [==============================] - 21s 45ms/step - loss: 0.3191 - accuracy: 0.9326 - val_loss: 0.3903 - val_accuracy: 0.9275\n",
            "Epoch 20/20\n",
            "476/476 [==============================] - ETA: 0s - loss: 0.2861 - accuracy: 0.9450\n",
            "Epoch 20: val_accuracy did not improve from 0.93893\n",
            "476/476 [==============================] - 24s 50ms/step - loss: 0.2861 - accuracy: 0.9450 - val_loss: 0.4123 - val_accuracy: 0.9046\n"
          ]
        }
      ]
    },
    {
      "cell_type": "markdown",
      "source": [
        "##Saving Model Weigths"
      ],
      "metadata": {
        "id": "3dyGzYL6fVok"
      }
    },
    {
      "cell_type": "code",
      "source": [
        "checkpoint_path = \"model_checkpoints_complete\" #because we want to save all\n",
        "checkpoint_weights = ModelCheckpoint(\n",
        "    filepath = checkpoint_path,\n",
        "    frecuency = \"epoch\",\n",
        "    save_weights_only = False, #this because we want to save model and wights\n",
        "    monitor = \"val_accuracy\", #to save only the best model\n",
        "    save_best_only = True,\n",
        "    verbose = 1 #show us information during training\n",
        ")"
      ],
      "metadata": {
        "id": "2OV3sGoof0n0"
      },
      "execution_count": 43,
      "outputs": []
    },
    {
      "cell_type": "code",
      "source": [
        "model_complete = get_model()\n",
        "model_complete.compile(optimizer = \"adam\", loss = \"categorical_crossentropy\", metrics = [\"accuracy\"])\n",
        "\n",
        "history_complete = model_complete.fit(\n",
        "    train_generator,\n",
        "    epochs = 20,\n",
        "    callbacks = [checkpoint_weights],\n",
        "    validation_data = validation_generator\n",
        ")"
      ],
      "metadata": {
        "colab": {
          "base_uri": "https://localhost:8080/"
        },
        "id": "PE3R7c0cf6b0",
        "outputId": "51dc5d58-7659-4603-d239-d313336d4de0"
      },
      "execution_count": 44,
      "outputs": [
        {
          "output_type": "stream",
          "name": "stdout",
          "text": [
            "Epoch 1/20\n",
            "475/476 [============================>.] - ETA: 0s - loss: 0.9547 - accuracy: 0.6153\n",
            "Epoch 1: val_accuracy improved from -inf to 0.66412, saving model to model_checkpoints_complete\n"
          ]
        },
        {
          "output_type": "stream",
          "name": "stderr",
          "text": [
            "WARNING:absl:Found untraced functions such as _jit_compiled_convolution_op, _update_step_xla while saving (showing 2 of 2). These functions will not be directly callable after loading.\n"
          ]
        },
        {
          "output_type": "stream",
          "name": "stdout",
          "text": [
            "\b\b\b\b\b\b\b\b\b\b\b\b\b\b\b\b\b\b\b\b\b\b\b\b\b\b\b\b\b\b\b\b\b\b\b\b\b\b\b\b\b\b\b\b\b\b\b\b\b\b\b\b\b\b\b\b\b\b\b\b\b\b\b\b\b\b\b\b\b\b\b\b\b\b\b\b\b\b\b\b\b\b\b\b\r476/476 [==============================] - 25s 50ms/step - loss: 0.9541 - accuracy: 0.6155 - val_loss: 0.8754 - val_accuracy: 0.6641\n",
            "Epoch 2/20\n",
            "475/476 [============================>.] - ETA: 0s - loss: 0.7040 - accuracy: 0.7546\n",
            "Epoch 2: val_accuracy improved from 0.66412 to 0.72137, saving model to model_checkpoints_complete\n"
          ]
        },
        {
          "output_type": "stream",
          "name": "stderr",
          "text": [
            "WARNING:absl:Found untraced functions such as _jit_compiled_convolution_op, _update_step_xla while saving (showing 2 of 2). These functions will not be directly callable after loading.\n"
          ]
        },
        {
          "output_type": "stream",
          "name": "stdout",
          "text": [
            "\b\b\b\b\b\b\b\b\b\b\b\b\b\b\b\b\b\b\b\b\b\b\b\b\b\b\b\b\b\b\b\b\b\b\b\b\b\b\b\b\b\b\b\b\b\b\b\b\b\b\b\b\b\b\b\b\b\b\b\b\b\b\b\b\b\b\b\b\b\b\b\b\b\b\b\b\b\b\b\b\b\b\b\b\r476/476 [==============================] - 23s 48ms/step - loss: 0.7035 - accuracy: 0.7546 - val_loss: 0.8073 - val_accuracy: 0.7214\n",
            "Epoch 3/20\n",
            "475/476 [============================>.] - ETA: 0s - loss: 0.6120 - accuracy: 0.7968\n",
            "Epoch 3: val_accuracy improved from 0.72137 to 0.72901, saving model to model_checkpoints_complete\n"
          ]
        },
        {
          "output_type": "stream",
          "name": "stderr",
          "text": [
            "WARNING:absl:Found untraced functions such as _jit_compiled_convolution_op, _update_step_xla while saving (showing 2 of 2). These functions will not be directly callable after loading.\n"
          ]
        },
        {
          "output_type": "stream",
          "name": "stdout",
          "text": [
            "\b\b\b\b\b\b\b\b\b\b\b\b\b\b\b\b\b\b\b\b\b\b\b\b\b\b\b\b\b\b\b\b\b\b\b\b\b\b\b\b\b\b\b\b\b\b\b\b\b\b\b\b\b\b\b\b\b\b\b\b\b\b\b\b\b\b\b\b\b\b\b\b\b\b\b\b\b\b\b\b\b\b\b\b\r476/476 [==============================] - 24s 51ms/step - loss: 0.6124 - accuracy: 0.7966 - val_loss: 0.7054 - val_accuracy: 0.7290\n",
            "Epoch 4/20\n",
            "476/476 [==============================] - ETA: 0s - loss: 0.5671 - accuracy: 0.8260\n",
            "Epoch 4: val_accuracy improved from 0.72901 to 0.80534, saving model to model_checkpoints_complete\n"
          ]
        },
        {
          "output_type": "stream",
          "name": "stderr",
          "text": [
            "WARNING:absl:Found untraced functions such as _jit_compiled_convolution_op, _update_step_xla while saving (showing 2 of 2). These functions will not be directly callable after loading.\n"
          ]
        },
        {
          "output_type": "stream",
          "name": "stdout",
          "text": [
            "\b\b\b\b\b\b\b\b\b\b\b\b\b\b\b\b\b\b\b\b\b\b\b\b\b\b\b\b\b\b\b\b\b\b\b\b\b\b\b\b\b\b\b\b\b\b\b\b\b\b\b\b\b\b\b\b\b\b\b\b\b\b\b\b\b\b\b\b\b\b\b\b\b\b\b\b\b\b\b\b\b\b\b\b\r476/476 [==============================] - 24s 50ms/step - loss: 0.5671 - accuracy: 0.8260 - val_loss: 0.6160 - val_accuracy: 0.8053\n",
            "Epoch 5/20\n",
            "475/476 [============================>.] - ETA: 0s - loss: 0.5265 - accuracy: 0.8416\n",
            "Epoch 5: val_accuracy did not improve from 0.80534\n",
            "476/476 [==============================] - 22s 46ms/step - loss: 0.5259 - accuracy: 0.8419 - val_loss: 0.6470 - val_accuracy: 0.7710\n",
            "Epoch 6/20\n",
            "476/476 [==============================] - ETA: 0s - loss: 0.5087 - accuracy: 0.8547\n",
            "Epoch 6: val_accuracy did not improve from 0.80534\n",
            "476/476 [==============================] - 22s 45ms/step - loss: 0.5087 - accuracy: 0.8547 - val_loss: 0.5573 - val_accuracy: 0.7786\n",
            "Epoch 7/20\n",
            "475/476 [============================>.] - ETA: 0s - loss: 0.4967 - accuracy: 0.8614\n",
            "Epoch 7: val_accuracy did not improve from 0.80534\n",
            "476/476 [==============================] - 23s 49ms/step - loss: 0.4967 - accuracy: 0.8615 - val_loss: 0.6198 - val_accuracy: 0.7786\n",
            "Epoch 8/20\n",
            "476/476 [==============================] - ETA: 0s - loss: 0.4702 - accuracy: 0.8715\n",
            "Epoch 8: val_accuracy improved from 0.80534 to 0.83588, saving model to model_checkpoints_complete\n"
          ]
        },
        {
          "output_type": "stream",
          "name": "stderr",
          "text": [
            "WARNING:absl:Found untraced functions such as _jit_compiled_convolution_op, _update_step_xla while saving (showing 2 of 2). These functions will not be directly callable after loading.\n"
          ]
        },
        {
          "output_type": "stream",
          "name": "stdout",
          "text": [
            "\b\b\b\b\b\b\b\b\b\b\b\b\b\b\b\b\b\b\b\b\b\b\b\b\b\b\b\b\b\b\b\b\b\b\b\b\b\b\b\b\b\b\b\b\b\b\b\b\b\b\b\b\b\b\b\b\b\b\b\b\b\b\b\b\b\b\b\b\b\b\b\b\b\b\b\b\b\b\b\b\b\b\b\b\r476/476 [==============================] - 25s 52ms/step - loss: 0.4702 - accuracy: 0.8715 - val_loss: 0.4995 - val_accuracy: 0.8359\n",
            "Epoch 9/20\n",
            "476/476 [==============================] - ETA: 0s - loss: 0.4364 - accuracy: 0.8836\n",
            "Epoch 9: val_accuracy did not improve from 0.83588\n",
            "476/476 [==============================] - 23s 49ms/step - loss: 0.4364 - accuracy: 0.8836 - val_loss: 0.5459 - val_accuracy: 0.8015\n",
            "Epoch 10/20\n",
            "476/476 [==============================] - ETA: 0s - loss: 0.4319 - accuracy: 0.8850\n",
            "Epoch 10: val_accuracy improved from 0.83588 to 0.84351, saving model to model_checkpoints_complete\n"
          ]
        },
        {
          "output_type": "stream",
          "name": "stderr",
          "text": [
            "WARNING:absl:Found untraced functions such as _jit_compiled_convolution_op, _update_step_xla while saving (showing 2 of 2). These functions will not be directly callable after loading.\n"
          ]
        },
        {
          "output_type": "stream",
          "name": "stdout",
          "text": [
            "\b\b\b\b\b\b\b\b\b\b\b\b\b\b\b\b\b\b\b\b\b\b\b\b\b\b\b\b\b\b\b\b\b\b\b\b\b\b\b\b\b\b\b\b\b\b\b\b\b\b\b\b\b\b\b\b\b\b\b\b\b\b\b\b\b\b\b\b\b\b\b\b\b\b\b\b\b\b\b\b\b\b\b\b\r476/476 [==============================] - 25s 52ms/step - loss: 0.4319 - accuracy: 0.8850 - val_loss: 0.5735 - val_accuracy: 0.8435\n",
            "Epoch 11/20\n",
            "476/476 [==============================] - ETA: 0s - loss: 0.4312 - accuracy: 0.8857\n",
            "Epoch 11: val_accuracy did not improve from 0.84351\n",
            "476/476 [==============================] - 22s 46ms/step - loss: 0.4312 - accuracy: 0.8857 - val_loss: 0.4963 - val_accuracy: 0.8130\n",
            "Epoch 12/20\n",
            "476/476 [==============================] - ETA: 0s - loss: 0.4041 - accuracy: 0.8992\n",
            "Epoch 12: val_accuracy did not improve from 0.84351\n",
            "476/476 [==============================] - 23s 49ms/step - loss: 0.4041 - accuracy: 0.8992 - val_loss: 0.5507 - val_accuracy: 0.8130\n",
            "Epoch 13/20\n",
            "476/476 [==============================] - ETA: 0s - loss: 0.3898 - accuracy: 0.9107\n",
            "Epoch 13: val_accuracy improved from 0.84351 to 0.85115, saving model to model_checkpoints_complete\n"
          ]
        },
        {
          "output_type": "stream",
          "name": "stderr",
          "text": [
            "WARNING:absl:Found untraced functions such as _jit_compiled_convolution_op, _update_step_xla while saving (showing 2 of 2). These functions will not be directly callable after loading.\n"
          ]
        },
        {
          "output_type": "stream",
          "name": "stdout",
          "text": [
            "\b\b\b\b\b\b\b\b\b\b\b\b\b\b\b\b\b\b\b\b\b\b\b\b\b\b\b\b\b\b\b\b\b\b\b\b\b\b\b\b\b\b\b\b\b\b\b\b\b\b\b\b\b\b\b\b\b\b\b\b\b\b\b\b\b\b\b\b\b\b\b\b\b\b\b\b\b\b\b\b\b\b\b\b\r476/476 [==============================] - 24s 51ms/step - loss: 0.3898 - accuracy: 0.9107 - val_loss: 0.4501 - val_accuracy: 0.8511\n",
            "Epoch 14/20\n",
            "475/476 [============================>.] - ETA: 0s - loss: 0.3823 - accuracy: 0.9095\n",
            "Epoch 14: val_accuracy improved from 0.85115 to 0.85878, saving model to model_checkpoints_complete\n"
          ]
        },
        {
          "output_type": "stream",
          "name": "stderr",
          "text": [
            "WARNING:absl:Found untraced functions such as _jit_compiled_convolution_op, _update_step_xla while saving (showing 2 of 2). These functions will not be directly callable after loading.\n"
          ]
        },
        {
          "output_type": "stream",
          "name": "stdout",
          "text": [
            "\b\b\b\b\b\b\b\b\b\b\b\b\b\b\b\b\b\b\b\b\b\b\b\b\b\b\b\b\b\b\b\b\b\b\b\b\b\b\b\b\b\b\b\b\b\b\b\b\b\b\b\b\b\b\b\b\b\b\b\b\b\b\b\b\b\b\b\b\b\b\b\b\b\b\b\b\b\b\b\b\b\b\b\b\r476/476 [==============================] - 23s 49ms/step - loss: 0.3829 - accuracy: 0.9091 - val_loss: 0.4732 - val_accuracy: 0.8588\n",
            "Epoch 15/20\n",
            "475/476 [============================>.] - ETA: 0s - loss: 0.3890 - accuracy: 0.9061\n",
            "Epoch 15: val_accuracy did not improve from 0.85878\n",
            "476/476 [==============================] - 23s 49ms/step - loss: 0.3886 - accuracy: 0.9063 - val_loss: 0.4576 - val_accuracy: 0.8588\n",
            "Epoch 16/20\n",
            "476/476 [==============================] - ETA: 0s - loss: 0.3807 - accuracy: 0.9146\n",
            "Epoch 16: val_accuracy improved from 0.85878 to 0.88550, saving model to model_checkpoints_complete\n"
          ]
        },
        {
          "output_type": "stream",
          "name": "stderr",
          "text": [
            "WARNING:absl:Found untraced functions such as _jit_compiled_convolution_op, _update_step_xla while saving (showing 2 of 2). These functions will not be directly callable after loading.\n"
          ]
        },
        {
          "output_type": "stream",
          "name": "stdout",
          "text": [
            "\b\b\b\b\b\b\b\b\b\b\b\b\b\b\b\b\b\b\b\b\b\b\b\b\b\b\b\b\b\b\b\b\b\b\b\b\b\b\b\b\b\b\b\b\b\b\b\b\b\b\b\b\b\b\b\b\b\b\b\b\b\b\b\b\b\b\b\b\b\b\b\b\b\b\b\b\b\b\b\b\b\b\b\b\r476/476 [==============================] - 25s 53ms/step - loss: 0.3807 - accuracy: 0.9146 - val_loss: 0.4318 - val_accuracy: 0.8855\n",
            "Epoch 17/20\n",
            "475/476 [============================>.] - ETA: 0s - loss: 0.3607 - accuracy: 0.9184\n",
            "Epoch 17: val_accuracy improved from 0.88550 to 0.90840, saving model to model_checkpoints_complete\n"
          ]
        },
        {
          "output_type": "stream",
          "name": "stderr",
          "text": [
            "WARNING:absl:Found untraced functions such as _jit_compiled_convolution_op, _update_step_xla while saving (showing 2 of 2). These functions will not be directly callable after loading.\n"
          ]
        },
        {
          "output_type": "stream",
          "name": "stdout",
          "text": [
            "\b\b\b\b\b\b\b\b\b\b\b\b\b\b\b\b\b\b\b\b\b\b\b\b\b\b\b\b\b\b\b\b\b\b\b\b\b\b\b\b\b\b\b\b\b\b\b\b\b\b\b\b\b\b\b\b\b\b\b\b\b\b\b\b\b\b\b\b\b\b\b\b\b\b\b\b\b\b\b\b\b\b\b\b\r476/476 [==============================] - 23s 49ms/step - loss: 0.3612 - accuracy: 0.9182 - val_loss: 0.3955 - val_accuracy: 0.9084\n",
            "Epoch 18/20\n",
            "476/476 [==============================] - ETA: 0s - loss: 0.3645 - accuracy: 0.9184\n",
            "Epoch 18: val_accuracy did not improve from 0.90840\n",
            "476/476 [==============================] - 23s 48ms/step - loss: 0.3645 - accuracy: 0.9184 - val_loss: 0.4622 - val_accuracy: 0.8664\n",
            "Epoch 19/20\n",
            "475/476 [============================>.] - ETA: 0s - loss: 0.3458 - accuracy: 0.9233\n",
            "Epoch 19: val_accuracy did not improve from 0.90840\n",
            "476/476 [==============================] - 23s 49ms/step - loss: 0.3459 - accuracy: 0.9233 - val_loss: 0.4176 - val_accuracy: 0.8969\n",
            "Epoch 20/20\n",
            "475/476 [============================>.] - ETA: 0s - loss: 0.3506 - accuracy: 0.9251\n",
            "Epoch 20: val_accuracy improved from 0.90840 to 0.92366, saving model to model_checkpoints_complete\n"
          ]
        },
        {
          "output_type": "stream",
          "name": "stderr",
          "text": [
            "WARNING:absl:Found untraced functions such as _jit_compiled_convolution_op, _update_step_xla while saving (showing 2 of 2). These functions will not be directly callable after loading.\n"
          ]
        },
        {
          "output_type": "stream",
          "name": "stdout",
          "text": [
            "\b\b\b\b\b\b\b\b\b\b\b\b\b\b\b\b\b\b\b\b\b\b\b\b\b\b\b\b\b\b\b\b\b\b\b\b\b\b\b\b\b\b\b\b\b\b\b\b\b\b\b\b\b\b\b\b\b\b\b\b\b\b\b\b\b\b\b\b\b\b\b\b\b\b\b\b\b\b\b\b\b\b\b\b\r476/476 [==============================] - 25s 52ms/step - loss: 0.3509 - accuracy: 0.9251 - val_loss: 0.3765 - val_accuracy: 0.9237\n"
          ]
        }
      ]
    },
    {
      "cell_type": "markdown",
      "source": [
        "### Saving in a ZIP"
      ],
      "metadata": {
        "id": "OOvx1Esdf9p0"
      }
    },
    {
      "cell_type": "code",
      "source": [
        "!zip model_checkpoints_complete *"
      ],
      "metadata": {
        "colab": {
          "base_uri": "https://localhost:8080/"
        },
        "id": "07k3X_epf_4u",
        "outputId": "7a48edf3-c7c5-4dcf-d617-3e6d8d83be90"
      },
      "execution_count": 45,
      "outputs": [
        {
          "output_type": "stream",
          "name": "stdout",
          "text": [
            "updating: content/ (stored 0%)\n",
            "updating: drive/ (stored 0%)\n",
            "updating: model_checkpoints/ (stored 0%)\n",
            "updating: model_checkpoints_complete/ (stored 0%)\n",
            "updating: models/ (stored 0%)\n",
            "updating: sample_data/ (stored 0%)\n",
            "  adding: brain_model.h5 (deflated 9%)\n",
            "  adding: save_model_complete/ (stored 0%)\n"
          ]
        }
      ]
    },
    {
      "cell_type": "markdown",
      "source": [
        "### Saving in H5py"
      ],
      "metadata": {
        "id": "TsMRa4Z2gRvw"
      }
    },
    {
      "cell_type": "code",
      "source": [
        "!pip install pyyaml h5py"
      ],
      "metadata": {
        "colab": {
          "base_uri": "https://localhost:8080/"
        },
        "id": "GQpEzXk7gBxs",
        "outputId": "48cd778b-70df-4132-93ab-5ab66271d5dc"
      },
      "execution_count": 46,
      "outputs": [
        {
          "output_type": "stream",
          "name": "stdout",
          "text": [
            "Looking in indexes: https://pypi.org/simple, https://us-python.pkg.dev/colab-wheels/public/simple/\n",
            "Requirement already satisfied: pyyaml in /usr/local/lib/python3.10/dist-packages (6.0)\n",
            "Requirement already satisfied: h5py in /usr/local/lib/python3.10/dist-packages (3.8.0)\n",
            "Requirement already satisfied: numpy>=1.14.5 in /usr/local/lib/python3.10/dist-packages (from h5py) (1.22.4)\n"
          ]
        }
      ]
    },
    {
      "cell_type": "markdown",
      "source": [],
      "metadata": {
        "id": "NQGHbjAigX7n"
      }
    },
    {
      "cell_type": "code",
      "source": [
        "model_complete.save(\"save_model_complete/mymodel\")"
      ],
      "metadata": {
        "colab": {
          "base_uri": "https://localhost:8080/"
        },
        "id": "W7EyHfCo4Ovv",
        "outputId": "8f688757-be4b-41d4-95d5-4d0a900604bc"
      },
      "execution_count": 48,
      "outputs": [
        {
          "output_type": "stream",
          "name": "stderr",
          "text": [
            "WARNING:absl:Found untraced functions such as _jit_compiled_convolution_op, _update_step_xla while saving (showing 2 of 2). These functions will not be directly callable after loading.\n"
          ]
        }
      ]
    },
    {
      "cell_type": "code",
      "source": [
        "model_completenew = tf.keras.models.load_model(\"save_model_complete/mymodel\") "
      ],
      "metadata": {
        "id": "KUAOCa_R4Qa0"
      },
      "execution_count": 49,
      "outputs": []
    },
    {
      "cell_type": "code",
      "source": [
        "model_completenew.evaluate(test_generator)"
      ],
      "metadata": {
        "colab": {
          "base_uri": "https://localhost:8080/"
        },
        "id": "ftDQPwe24SsC",
        "outputId": "f9f39b8d-e44a-4481-dea0-f8bba5b56c36"
      },
      "execution_count": 50,
      "outputs": [
        {
          "output_type": "stream",
          "name": "stdout",
          "text": [
            "110/110 [==============================] - 4s 38ms/step - loss: 0.4182 - accuracy: 0.8947\n"
          ]
        },
        {
          "output_type": "execute_result",
          "data": {
            "text/plain": [
              "[0.41820916533470154, 0.8947368264198303]"
            ]
          },
          "metadata": {},
          "execution_count": 50
        }
      ]
    },
    {
      "cell_type": "code",
      "source": [
        "model_complete.evaluate(test_generator)"
      ],
      "metadata": {
        "colab": {
          "base_uri": "https://localhost:8080/"
        },
        "id": "TTnjMWpG4UoL",
        "outputId": "011f4e04-b075-49d2-d15d-28fc0af80120"
      },
      "execution_count": 51,
      "outputs": [
        {
          "output_type": "stream",
          "name": "stdout",
          "text": [
            "110/110 [==============================] - 3s 30ms/step - loss: 0.4182 - accuracy: 0.8947\n"
          ]
        },
        {
          "output_type": "execute_result",
          "data": {
            "text/plain": [
              "[0.4182092249393463, 0.8947368264198303]"
            ]
          },
          "metadata": {},
          "execution_count": 51
        }
      ]
    },
    {
      "cell_type": "code",
      "source": [
        "model_completenew.save(\"brain_model.h5\")"
      ],
      "metadata": {
        "id": "wiqYn7p_5xeU"
      },
      "execution_count": 52,
      "outputs": []
    },
    {
      "cell_type": "code",
      "source": [
        "model_completenew2 = tf.keras.models.load_model(\"brain_model.h5\")"
      ],
      "metadata": {
        "id": "8w_JgIEfgamx"
      },
      "execution_count": 53,
      "outputs": []
    },
    {
      "cell_type": "code",
      "source": [
        "model_completenew2.evaluate(test_generator)"
      ],
      "metadata": {
        "colab": {
          "base_uri": "https://localhost:8080/"
        },
        "id": "xyGjhRfJgd6k",
        "outputId": "0c26b1f8-a24f-41fc-9514-60b59bd53f5d"
      },
      "execution_count": 54,
      "outputs": [
        {
          "output_type": "stream",
          "name": "stdout",
          "text": [
            "110/110 [==============================] - 3s 30ms/step - loss: 0.4182 - accuracy: 0.8947\n"
          ]
        },
        {
          "output_type": "execute_result",
          "data": {
            "text/plain": [
              "[0.4182092249393463, 0.8947368264198303]"
            ]
          },
          "metadata": {},
          "execution_count": 54
        }
      ]
    }
  ]
}