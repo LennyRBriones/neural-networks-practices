{
  "nbformat": 4,
  "nbformat_minor": 0,
  "metadata": {
    "kernelspec": {
      "display_name": "Python 3",
      "language": "python",
      "name": "python3"
    },
    "language_info": {
      "codemirror_mode": {
        "name": "ipython",
        "version": 3
      },
      "file_extension": ".py",
      "mimetype": "text/x-python",
      "name": "python",
      "nbconvert_exporter": "python",
      "pygments_lexer": "ipython3",
      "version": "3.7.1"
    },
    "colab": {
      "provenance": [],
      "include_colab_link": true
    }
  },
  "cells": [
    {
      "cell_type": "markdown",
      "metadata": {
        "id": "view-in-github",
        "colab_type": "text"
      },
      "source": [
        "<a href=\"https://colab.research.google.com/github/LennyRBriones/neural-networks-practices/blob/main/callbacks_examples.ipynb\" target=\"_parent\"><img src=\"https://colab.research.google.com/assets/colab-badge.svg\" alt=\"Open In Colab\"/></a>"
      ]
    },
    {
      "cell_type": "markdown",
      "metadata": {
        "id": "vLZhfMX4qQ6T"
      },
      "source": [
        "# Ejemplos de callbacks\n"
      ]
    },
    {
      "cell_type": "markdown",
      "metadata": {
        "id": "FOGJ_bp29SgR"
      },
      "source": [
        "#### Callback en el training"
      ]
    },
    {
      "cell_type": "code",
      "metadata": {
        "id": "X05tcndn9SgR"
      },
      "source": [
        "# Write a custom callback\n",
        "from tensorflow.keras.callbacks import Callback\n",
        "\n",
        "class TrainingCallback(Callback):\n",
        "  def on_train_begin(self, logs=None):\n",
        "    print('Starting training....')\n",
        "\n",
        "  def on_epoch_begin(self, epoch, logs=None):\n",
        "    print('Starting epoch {}'.format(epoch))\n",
        "  \n",
        "  def on_train_batch_begin(self, batch, logs=None):\n",
        "    print('Training: Starting batch {}'.format(batch))\n",
        "  \n",
        "  def on_train_batch_end(self, batch, logs=None):\n",
        "    print('Training: Finished batch {}'.format(batch))\n",
        "\n",
        "  def on_epoch_end(self, epoch, logs=None):\n",
        "    print('Finished epoch {}'.format(epoch))\n",
        "\n",
        "  def on_train_end(self, logs=None):\n",
        "     print('Finished training!')\n"
      ],
      "execution_count": null,
      "outputs": []
    },
    {
      "cell_type": "markdown",
      "metadata": {
        "id": "eZx6OM4WZPBP"
      },
      "source": [
        "#### Callback en el testing"
      ]
    },
    {
      "cell_type": "code",
      "metadata": {
        "id": "H3F0OAtC17n8"
      },
      "source": [
        "class TestingCallback(Callback):\n",
        "  def on_test_begin(self, logs=None):\n",
        "    print('Starting testing....')\n",
        " \n",
        "  def on_test_batch_begin(self, batch, logs=None):\n",
        "    print('Testing: Starting batch {}'.format(batch))\n",
        "  \n",
        "  def on_test_batch_end(self, batch, logs=None):\n",
        "    print('Testing: Finished batch {}'.format(batch))\n",
        "\n",
        "  def on_test_end(self, logs=None):\n",
        "     print('Finished testing!')\n"
      ],
      "execution_count": null,
      "outputs": []
    },
    {
      "cell_type": "markdown",
      "metadata": {
        "id": "4RfROS6CZRwS"
      },
      "source": [
        "#### Callback en prediction"
      ]
    },
    {
      "cell_type": "code",
      "metadata": {
        "id": "5oQwxLLt2W_B"
      },
      "source": [
        "class PredictionCallback(Callback):\n",
        "  def on_predict_begin(self, logs=None):\n",
        "    print('Prediction testing....')\n",
        " \n",
        "  def on_predict_batch_begin(self, batch, logs=None):\n",
        "    print('Prediction: Starting batch {}'.format(batch))\n",
        "  \n",
        "  def on_predict_batch_end(self, batch, logs=None):\n",
        "    print('Prediction: Finished batch {}'.format(batch))\n",
        "\n",
        "  def on_predict_end(self, logs=None):\n",
        "     print('Finished prediction!')"
      ],
      "execution_count": null,
      "outputs": []
    },
    {
      "cell_type": "markdown",
      "metadata": {
        "id": "2VuRoc0D9SgZ"
      },
      "source": [
        "#### ¿Cómo utilizarlos? "
      ]
    },
    {
      "cell_type": "code",
      "metadata": {
        "id": "9Iy6zE5M9SgZ",
        "colab": {
          "base_uri": "https://localhost:8080/",
          "height": 578
        },
        "outputId": "1b99a4ec-8a25-40f0-d2c3-fa8ccc5d6cf9"
      },
      "source": [
        "# TRAINING\n",
        "model.fit(train_data, train_target, verbose = False, callbacks= [TrainingCallback()])\n",
        "\n",
        "# TESTING\n",
        "model.evaluate(test_data, test_target, verbose = False, callbacks=[TestingCallback()])\n",
        "\n",
        "# PREDICTION\n",
        "model.predict(test_data, verbose=False, callbacks=[PredictionCallback()])"
      ],
      "execution_count": null,
      "outputs": [
        {
          "output_type": "stream",
          "text": [
            "Starting training....\n",
            "Starting epoch 0\n",
            "Training: Starting batch 0\n",
            "Training: Finished batch 0\n",
            "Training: Starting batch 1\n",
            "Training: Finished batch 1\n",
            "Training: Starting batch 2\n",
            "Training: Finished batch 2\n",
            "Training: Starting batch 3\n",
            "Training: Finished batch 3\n",
            "Finished epoch 0\n",
            "Starting epoch 1\n",
            "Training: Starting batch 0\n",
            "Training: Finished batch 0\n",
            "Training: Starting batch 1\n",
            "Training: Finished batch 1\n",
            "Training: Starting batch 2\n",
            "Training: Finished batch 2\n",
            "Training: Starting batch 3\n",
            "Training: Finished batch 3\n",
            "Finished epoch 1\n",
            "Starting epoch 2\n",
            "Training: Starting batch 0\n",
            "Training: Finished batch 0\n",
            "Training: Starting batch 1\n",
            "Training: Finished batch 1\n",
            "Training: Starting batch 2\n",
            "Training: Finished batch 2\n",
            "Training: Starting batch 3\n",
            "Training: Finished batch 3\n",
            "Finished epoch 2\n",
            "Finished training!\n"
          ],
          "name": "stdout"
        },
        {
          "output_type": "execute_result",
          "data": {
            "text/plain": [
              "<tensorflow.python.keras.callbacks.History at 0x7ffb6d3fee48>"
            ]
          },
          "metadata": {
            "tags": []
          },
          "execution_count": 25
        }
      ]
    },
    {
      "cell_type": "markdown",
      "metadata": {
        "id": "qb8bJca0qQ7E"
      },
      "source": [
        "### Recursos relevantes sobre Callbacks\n",
        "* https://keras.io/callbacks/\n",
        "* https://www.tensorflow.org/api_docs/python/tf/keras/callbacks/LearningRateScheduler\n",
        "* https://www.tensorflow.org/api_docs/python/tf/keras/callbacks/CSVLogger\n",
        "* https://www.tensorflow.org/api_docs/python/tf/keras/callbacks/LambdaCallback"
      ]
    }
  ]
}